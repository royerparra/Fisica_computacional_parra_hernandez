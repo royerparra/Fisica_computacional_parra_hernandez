{
 "cells": [
  {
   "cell_type": "code",
   "execution_count": 16,
   "metadata": {
    "collapsed": false
   },
   "outputs": [
    {
     "name": "stderr",
     "output_type": "stream",
     "text": [
      "\u001b[1m\u001b[36mINFO: \u001b[39m\u001b[22m\u001b[36mPackage PyPlot is already installed\n",
      "\u001b[39m\u001b[1m\u001b[36mINFO: \u001b[39m\u001b[22m\u001b[36mMETADATA is out-of-date — you may not have the latest version of PyPlot\n",
      "\u001b[39m\u001b[1m\u001b[36mINFO: \u001b[39m\u001b[22m\u001b[36mUse `Pkg.update()` to get the latest versions of your packages\n",
      "\u001b[39m"
     ]
    }
   ],
   "source": [
    "Pkg.add(\"PyPlot\")"
   ]
  },
  {
   "cell_type": "markdown",
   "metadata": {},
   "source": [
    "# Derivación numérica"
   ]
  },
  {
   "cell_type": "markdown",
   "metadata": {},
   "source": [
    "__Ejercicio 1__. Escribe una función `derivadaNumerica` que\n",
    "reciba: una función $f\\colon \\mathbb{R}\\mapsto\\mathbb{R}$,\n",
    "un punto $x_0\\in\\mathbb{R}$ y un número $h\\in\\mathbb{R}$. Esta función deberá calcular una aproximación a la\n",
    "derivada utilizando la definición indicada arriba ignorando\n",
    "la parte del límite. Es decir, algo como: `derivada_numerica(f,x,h)`."
   ]
  },
  {
   "cell_type": "markdown",
   "metadata": {},
   "source": [
    "__solución:__en esta parte crearemos una función llamada dn, la cual usara la fórmula:\n",
    "$$f'(x)\\approx \\frac{f(x+h)-f(x)}{h}$$\n",
    "además como en el ejrcicio 2 se pide graficar para bastantes puntos, crearemos esta función de manera que $x$ se un número, pero $h$ sea un conjunto de valores"
   ]
  },
  {
   "cell_type": "code",
   "execution_count": 40,
   "metadata": {
    "collapsed": false
   },
   "outputs": [
    {
     "name": "stderr",
     "output_type": "stream",
     "text": [
      "\u001b[1m\u001b[33mWARNING: \u001b[39m\u001b[22m\u001b[33mreplacing docs for 'dn :: Tuple{Any,Any,Any}' in module 'Main'.\u001b[39m\n"
     ]
    },
    {
     "data": {
      "text/plain": [
       "dn"
      ]
     },
     "execution_count": 40,
     "metadata": {},
     "output_type": "execute_result"
    }
   ],
   "source": [
    "doc\"\"\"\n",
    "esta función calcula el valor aproximado de f'(x) usando la aproximación $f'(a)\\approx \\frac{f(a+h)-f(x)}{h}$ , por favor introduza (f,a,h), h puede ser un conjunto de valores (vector), por ejemplo, para f(x)=x si ponemos a=0 h=3 se tiene 3\n",
    "\"\"\"\n",
    "function dn(f,a,h0)\n",
    "    L=length(h0)#como pensamos en un arreglo primero vemos cuantos elementos tiene\n",
    "    D=[] #creamos un vector vacío para ir guardando los resultados\n",
    "    for i in 1:L #para cada elemento en h vamos a aplicar d(h) es decir aproximamos la derivada en cada valor de h\n",
    "        k=(f(a+h0[i])-f(a))/h0[i]#usamos la formula en x=a\n",
    "        push!(D,k)#aplicamos a cada elemento y lo guardamos en D\n",
    "        end\n",
    "        return D #pedimos que nos devuelva los resultados\n",
    "    end"
   ]
  },
  {
   "cell_type": "code",
   "execution_count": 41,
   "metadata": {
    "collapsed": false
   },
   "outputs": [
    {
     "data": {
      "text/plain": [
       "f (generic function with 1 method)"
      ]
     },
     "execution_count": 41,
     "metadata": {},
     "output_type": "execute_result"
    }
   ],
   "source": [
    "f(x)=x*x #usaremos esta función para probar el método"
   ]
  },
  {
   "cell_type": "code",
   "execution_count": 42,
   "metadata": {
    "collapsed": false
   },
   "outputs": [
    {
     "data": {
      "text/plain": [
       "1-element Array{Any,1}:\n",
       " 1.0"
      ]
     },
     "execution_count": 42,
     "metadata": {},
     "output_type": "execute_result"
    }
   ],
   "source": [
    "dn(f,0,1)#ya sabemos que f'(0)=0 para ello comprabamos que con h=1 aún no se parece"
   ]
  },
  {
   "cell_type": "code",
   "execution_count": 43,
   "metadata": {
    "collapsed": false
   },
   "outputs": [
    {
     "data": {
      "text/plain": [
       "1-element Array{Any,1}:\n",
       " 1.0e-7"
      ]
     },
     "execution_count": 43,
     "metadata": {},
     "output_type": "execute_result"
    }
   ],
   "source": [
    "dn(f,0,0.0000001)#pero poco a poco se va pareciendo"
   ]
  },
  {
   "cell_type": "markdown",
   "metadata": {},
   "source": [
    "__Ejercicio 2__. Utiliza tu función `derivadaNumerica` para\n",
    "calcular la derivada de la función $\\cos$ en un punto\n",
    "$x_0\\in[0,1)$. Compara tu resultado con el que indica el\n",
    "cálculo exacto. Utiliza valores de $h$ cada vez más pequeños, grafica el comportamiento de la derivada y muestra como converge al valor exacto conforme tomamos $h$'s cada vez más pequeño. Para ello pueden graficar el resultado de la derivada numérica contra $1/h$.\n",
    "Observa el resultado de la aproximación y comenta. ¿El error es del orden de $h$?, para ver esto grafica el error relativo a $f'(x_0)$:\n",
    "$$\\epsilon=\\frac{\\Delta f(x_0,h)/h-f'(x_0)}{f'(x_0)},$$\n",
    "respecto a $h$."
   ]
  },
  {
   "cell_type": "code",
   "execution_count": 2,
   "metadata": {
    "collapsed": false
   },
   "outputs": [
    {
     "data": {
      "text/plain": [
       "1.0e-8:1.0e-8:0.0001"
      ]
     },
     "execution_count": 2,
     "metadata": {},
     "output_type": "execute_result"
    }
   ],
   "source": [
    "b=0.00000001:0.00000001:0.0001#creamos una arreglo que tome valores pequeños para usarlos como h"
   ]
  },
  {
   "cell_type": "code",
   "execution_count": 3,
   "metadata": {
    "collapsed": false
   },
   "outputs": [
    {
     "data": {
      "text/plain": [
       "f (generic function with 1 method)"
      ]
     },
     "execution_count": 3,
     "metadata": {},
     "output_type": "execute_result"
    }
   ],
   "source": [
    "f(x)=cos(x)#ahora definimos la función que queremos analizar"
   ]
  },
  {
   "cell_type": "code",
   "execution_count": 74,
   "metadata": {
    "collapsed": false
   },
   "outputs": [
    {
     "data": {
      "text/plain": [
       "10000-element Array{Any,1}:\n",
       "  0.0       \n",
       " -1.11022e-8\n",
       " -1.4803e-8 \n",
       " -1.94289e-8\n",
       " -2.44249e-8\n",
       " -2.96059e-8\n",
       " -3.48927e-8\n",
       " -4.02456e-8\n",
       " -4.44089e-8\n",
       " -4.996e-8  \n",
       " -5.45019e-8\n",
       " -6.01371e-8\n",
       " -6.49053e-8\n",
       "  ⋮         \n",
       " -4.9945e-5 \n",
       " -4.995e-5  \n",
       " -4.9955e-5 \n",
       " -4.996e-5  \n",
       " -4.9965e-5 \n",
       " -4.997e-5  \n",
       " -4.9975e-5 \n",
       " -4.998e-5  \n",
       " -4.9985e-5 \n",
       " -4.999e-5  \n",
       " -4.9995e-5 \n",
       " -5.0e-5    "
      ]
     },
     "execution_count": 74,
     "metadata": {},
     "output_type": "execute_result"
    }
   ],
   "source": [
    "dn(f,0,b) #aplicamos la derivada numérica en 0 donde ya sabemos que vale 0"
   ]
  },
  {
   "cell_type": "code",
   "execution_count": 4,
   "metadata": {
    "collapsed": false,
    "scrolled": true
   },
   "outputs": [
    {
     "data": {
      "text/plain": [
       "10000-element Array{Float64,1}:\n",
       "     1.0e8    \n",
       "     5.0e7    \n",
       "     3.33333e7\n",
       "     2.5e7    \n",
       "     2.0e7    \n",
       "     1.66667e7\n",
       "     1.42857e7\n",
       "     1.25e7   \n",
       "     1.11111e7\n",
       "     1.0e7    \n",
       "     9.09091e6\n",
       "     8.33333e6\n",
       "     7.69231e6\n",
       "     ⋮        \n",
       " 10011.0      \n",
       " 10010.0      \n",
       " 10009.0      \n",
       " 10008.0      \n",
       " 10007.0      \n",
       " 10006.0      \n",
       " 10005.0      \n",
       " 10004.0      \n",
       " 10003.0      \n",
       " 10002.0      \n",
       " 10001.0      \n",
       " 10000.0      "
      ]
     },
     "execution_count": 4,
     "metadata": {},
     "output_type": "execute_result"
    }
   ],
   "source": [
    "a=1/b#creamos un arreglo que sea 1/h"
   ]
  },
  {
   "cell_type": "code",
   "execution_count": 1,
   "metadata": {
    "collapsed": true
   },
   "outputs": [],
   "source": [
    "using SymPy#debido a que derivaremos ahora una función para obtener el error \"epsilon\""
   ]
  },
  {
   "cell_type": "code",
   "execution_count": 77,
   "metadata": {
    "collapsed": false
   },
   "outputs": [
    {
     "name": "stderr",
     "output_type": "stream",
     "text": [
      "\u001b[1m\u001b[33mWARNING: \u001b[39m\u001b[22m\u001b[33mreplacing docs for 'error :: Tuple{Any,Any,Any}' in module 'Main'.\u001b[39m\n"
     ]
    },
    {
     "data": {
      "text/plain": [
       "error"
      ]
     },
     "execution_count": 77,
     "metadata": {},
     "output_type": "execute_result"
    }
   ],
   "source": [
    "doc\"\"\"\n",
    "esta función calcula el error relativo de la derivada numérica con el valor exacto, donde el error relativo es $\\epsilon=\\frac{\\Delta f(a,h)/h-f'(a)}{f'(a)},$, introduzca (f,a,h0) donde h0 puede ser un arreglo de valores\n",
    "\"\"\"\n",
    "function error(f,a,h0)\n",
    "    l=length(h0)#usamos la longitud del arreglo\n",
    "    e=[]#una lista donde se guardaran los valores\n",
    "     x = Sym(\"x\")#variable\n",
    "    h = f(x)#convertimos a simbolos\n",
    "    n(h)=(h(a+h)-h(a))/h#tomamos un vector que nos da la derivada numérica en a\n",
    "    dh = diff(h(x))#derivamos\n",
    "    df = lambdify(dh,[x]) #ahora la convertimos de nuevo en función de Julia para poder aplicar la derivada\n",
    "    for i in 1:l#usaremos este for para calcular el error para cada elemento de h0\n",
    "        ep=(n(h[i])-df(a))/df(a) #Formula del error epsilon\n",
    "        push!(e,ep) #Guardamos el valor del error en el arreglo\n",
    "    end\n",
    "    return e#devolvemos la lista de error\n",
    "end"
   ]
  },
  {
   "cell_type": "code",
   "execution_count": 5,
   "metadata": {
    "collapsed": false
   },
   "outputs": [
    {
     "data": {
      "text/plain": [
       "errorepsilon (generic function with 1 method)"
      ]
     },
     "execution_count": 5,
     "metadata": {},
     "output_type": "execute_result"
    }
   ],
   "source": [
    "function errorepsilon(f,x0,h0)\n",
    "    #Defino la variable longitud que me da la cantidad de elementos del arreglo h0\n",
    "    longitud=length(h0)\n",
    "    #Doy la función d(h) la cuál es la misma usada en la funcion derivadaNumerica\n",
    "    d(h)=(g(x0+h)-g(x0))/h\n",
    "    ### Aqui es donde aplico SymPy pues este programa debe funcionar para cualquier f que yo quiera, calculo la derivada de la función introducida\n",
    "    ### Variable simbólica x\n",
    "    x = Sym(\"x\")\n",
    "    ### Función con variable x\n",
    "    g = f(x)\n",
    "    ### Aplico la diferenciación a g(x)\n",
    "    dg = diff(g(x))\n",
    "    ### La vuelvo una función de Julia\n",
    "    df = lambdify(dg,[x]) \n",
    "    ###Dejo de usar SymPy\n",
    "    #Aquí está el arreglo donde guardaré los valores del error\n",
    "    listaerror=[]\n",
    "    for i in 1:longitud #Ciclo for que calculará el valor epsilon a cada valor de la lista introducida\n",
    "        epsilon=(d(h0[i])-df(x0))/df(x0) #Formula del error epsilon\n",
    "        push!(listaerror,epsilon) #Guardo el valor de dicha epsilon en mi arreglo\n",
    "    #Fin de iteración\n",
    "    end\n",
    "    #Como resultado arrojo la listaerror\n",
    "    return listaerror\n",
    "#Fin\n",
    "end"
   ]
  },
  {
   "cell_type": "code",
   "execution_count": 6,
   "metadata": {
    "collapsed": false
   },
   "outputs": [
    {
     "name": "stderr",
     "output_type": "stream",
     "text": [
      "WARNING: Compat.UTF8String is deprecated, use String instead.\n",
      "  likely near In[6]:1\n",
      "WARNING: Compat.UTF8String is deprecated, use String instead.\n",
      "  likely near In[6]:1\n",
      "WARNING: Compat.UTF8String is deprecated, use String instead.\n",
      "  likely near In[6]:1\n",
      "in jprint at /home/juser/.julia/v0.6/SymPy/src/display.jl\n"
     ]
    },
    {
     "data": {
      "text/plain": [
       "10000-element Array{Any,1}:\n",
       "  nan\n",
       " -inf\n",
       " -inf\n",
       " -inf\n",
       " -inf\n",
       " -inf\n",
       " -inf\n",
       " -inf\n",
       " -inf\n",
       " -inf\n",
       " -inf\n",
       " -inf\n",
       " -inf\n",
       "    ⋮\n",
       " -inf\n",
       " -inf\n",
       " -inf\n",
       " -inf\n",
       " -inf\n",
       " -inf\n",
       " -inf\n",
       " -inf\n",
       " -inf\n",
       " -inf\n",
       " -inf\n",
       " -inf"
      ]
     },
     "execution_count": 6,
     "metadata": {},
     "output_type": "execute_result"
    }
   ],
   "source": [
    "errorepsilon(f,0,b)"
   ]
  },
  {
   "cell_type": "raw",
   "metadata": {
    "collapsed": true
   },
   "source": [
    "using PyPlot"
   ]
  },
  {
   "cell_type": "code",
   "execution_count": 71,
   "metadata": {
    "collapsed": false
   },
   "outputs": [
    {
     "data": {
      "image/png": "[encoded data removed]",
      "text/plain": [
       "PyPlot.Figure(PyObject <matplotlib.figure.Figure object at 0x7f3d91aa1790>)"
      ]
     },
     "metadata": {},
     "output_type": "display_data"
    },
    {
     "data": {
      "text/plain": [
       "(0, 1.0e-6)"
      ]
     },
     "execution_count": 71,
     "metadata": {},
     "output_type": "execute_result"
    }
   ],
   "source": [
    "xlabel(\"1/h\")\n",
    "ylabel(\"valor de la derivada\")\n",
    "plot(a,abs.(dn(f,0,b)))\n",
    "ylim(0,0.000001)\n"
   ]
  },
  {
   "cell_type": "markdown",
   "metadata": {},
   "source": [
    "como podemos ver cada $h$ se hace mas pequeña ($\\frac{1}{h}$ se hace mas cercano a $1$) entonces tenemos que la derivada se hacerca mucho al valor real, con el detalle de cada vez lo hace mas suavemente"
   ]
  },
  {
   "cell_type": "markdown",
   "metadata": {},
   "source": [
    "__Ejercicio 3__. Teniendo en mente la serie de Taylor para $f(x+h)$ ¿existe\n",
    "alguna forma de mejorar el cálculo de la derivada numérica? Comenta.\n",
    "\n",
    "__Tip:__ ¿Que pasa con los términos pares de la serie cuando la calculamos para $f(x-h)$?, ¿Como podemos despejar la derivada exacta de $f$ combinando ambas series? \n",
    "\n",
    "__Nota:__ Entregar en $\\LaTeX$ en el notebook de la tarea."
   ]
  },
  {
   "cell_type": "markdown",
   "metadata": {},
   "source": [
    "__solución:__ahora analicemos para f sus dos series de taylor en $h$ y $-h$:\n",
    "$$f(x+h)=\\sum_{k=0}^{\\infty} \\frac{f^{(k)}(x)\\cdot (h)^k}{k!}$$\n",
    "$$f(x-h)=\\sum_{k=0}^{\\infty} \\frac{f^{(k)}(x)\\cdot (-h)^k}{k!}$$\n",
    "entonces es claro que si restamos las dos series obtenemos:\n",
    "$$f(x+h)-f(x-h)=\\sum_{k=0}^{\\infty} \\frac{f^{(k)(x)}}{k!}\\cdot (h^k-(-h)^k)=\\sum_{k=0}^{\\infty} \\frac{f^{(k)}(x)}{k!}\\cdot (h^k+(-1)^{k+1}\\cdot h^k)=\\sum_{k=0}^{\\infty} \\frac{2f^{(2k+1)}(x)\\cdot h^{2k+1}}{(2k+1)!}$$\n",
    "ahora solo consideramos el primer termino, es decir usamos:\n",
    "$$\\sum_{k=0}^{\\infty} \\frac{2f^{(2k+1)}(x)\\cdot h^{2k+1}}{(2k+1)!} \\approx 2f'(x)h\\ \\therefore\\ f'(x)\\approx \\frac{f(x+h)-f(x-h)}{2h}$$"
   ]
  },
  {
   "cell_type": "markdown",
   "metadata": {},
   "source": [
    "__Pregunta:__ ¿Hay una forma de construir una derivada numérica aún mas exacta sin tener que hacer $h$ arbitrariamente pequeño?, ¿que opinas?\n",
    "\n",
    "__Respuesta:__no, en mi opinión para la derivada se tomo un límite cuando h se hace pequeño, por tanto entre mas pequeño, mas se parece y si podemos hacer que al disminuir algún otro parámetro se acerque al valor real, es por que este parámetro al hacerse pequeño implica que h también lo haga."
   ]
  },
  {
   "cell_type": "markdown",
   "metadata": {},
   "source": [
    "__Ejercicio 4__. Implementa la _derivada\n",
    "simétrica_ en `Julia` como `derivada_Simetrica` y repite la\n",
    "comparativa que realizaste en el __ejercicio 2__."
   ]
  },
  {
   "cell_type": "code",
   "execution_count": 1,
   "metadata": {
    "collapsed": false
   },
   "outputs": [
    {
     "data": {
      "text/plain": [
       "Dersim"
      ]
     },
     "execution_count": 1,
     "metadata": {},
     "output_type": "execute_result"
    }
   ],
   "source": [
    "doc\"\"\"\n",
    "esta función calcula la derivada en un punto $x$ con la expresión: $f'(x)\\approx \\frac{f(x+h)-f(x-h)}{2h}$\n",
    "por favor introduzca (f,x,h) donde h puede ser un arreglo\n",
    "\"\"\"\n",
    "function Dersim(f,a,h0)\n",
    "    L=length(h0)#como pensamos en un arreglo primero vemos cuantos elementos tiene\n",
    "    D=[] #creamos un vector vacío para ir guardando los resultados\n",
    "    for i in 1:L #para cada elemento en h vamos a aplicar d(h) es decir aproximamos la derivada en cada valor de h\n",
    "        d(h)=(f(a+h)-f(a-h))/h#usamos la fórmula de la derivada simétrica\n",
    "        push!(D,d(h0[i]))#aplicamos a cada elemento y lo guardamos en D\n",
    "        end\n",
    "        return D #pedimos que nos devuelva los resultados\n",
    "    end"
   ]
  },
  {
   "cell_type": "code",
   "execution_count": 2,
   "metadata": {
    "collapsed": false
   },
   "outputs": [
    {
     "data": {
      "text/plain": [
       "1.0e-9:1.0e-9:0.0001"
      ]
     },
     "execution_count": 2,
     "metadata": {},
     "output_type": "execute_result"
    }
   ],
   "source": [
    "x=0.000000001:0.000000001:0.0001#de nuevo proponemos nuestros valores de h pequeños"
   ]
  },
  {
   "cell_type": "code",
   "execution_count": 3,
   "metadata": {
    "collapsed": false,
    "scrolled": true
   },
   "outputs": [
    {
     "data": {
      "text/plain": [
       "100000-element Array{Float64,1}:\n",
       "     1.0e9    \n",
       "     5.0e8    \n",
       "     3.33333e8\n",
       "     2.5e8    \n",
       "     2.0e8    \n",
       "     1.66667e8\n",
       "     1.42857e8\n",
       "     1.25e8   \n",
       "     1.11111e8\n",
       "     1.0e8    \n",
       "     9.09091e7\n",
       "     8.33333e7\n",
       "     7.69231e7\n",
       "     ⋮        \n",
       " 10001.1      \n",
       " 10001.0      \n",
       " 10000.9      \n",
       " 10000.8      \n",
       " 10000.7      \n",
       " 10000.6      \n",
       " 10000.5      \n",
       " 10000.4      \n",
       " 10000.3      \n",
       " 10000.2      \n",
       " 10000.1      \n",
       " 10000.0      "
      ]
     },
     "execution_count": 3,
     "metadata": {},
     "output_type": "execute_result"
    }
   ],
   "source": [
    "y=1/x#y nuestro 1/h"
   ]
  },
  {
   "cell_type": "code",
   "execution_count": 4,
   "metadata": {
    "collapsed": false
   },
   "outputs": [
    {
     "data": {
      "text/plain": [
       "f (generic function with 1 method)"
      ]
     },
     "execution_count": 4,
     "metadata": {},
     "output_type": "execute_result"
    }
   ],
   "source": [
    "f(x)=cos(x)#usaremos esta función como pide el ejercicio 2"
   ]
  },
  {
   "cell_type": "code",
   "execution_count": 5,
   "metadata": {
    "collapsed": false
   },
   "outputs": [
    {
     "data": {
      "text/plain": [
       "100000-element Array{Any,1}:\n",
       " 0.0\n",
       " 0.0\n",
       " 0.0\n",
       " 0.0\n",
       " 0.0\n",
       " 0.0\n",
       " 0.0\n",
       " 0.0\n",
       " 0.0\n",
       " 0.0\n",
       " 0.0\n",
       " 0.0\n",
       " 0.0\n",
       " ⋮  \n",
       " 0.0\n",
       " 0.0\n",
       " 0.0\n",
       " 0.0\n",
       " 0.0\n",
       " 0.0\n",
       " 0.0\n",
       " 0.0\n",
       " 0.0\n",
       " 0.0\n",
       " 0.0\n",
       " 0.0"
      ]
     },
     "execution_count": 5,
     "metadata": {},
     "output_type": "execute_result"
    }
   ],
   "source": [
    "z=Dersim(f,0,x)"
   ]
  },
  {
   "cell_type": "code",
   "execution_count": 8,
   "metadata": {
    "collapsed": false
   },
   "outputs": [],
   "source": [
    "using PyPlot"
   ]
  },
  {
   "cell_type": "code",
   "execution_count": 10,
   "metadata": {
    "collapsed": false
   },
   "outputs": [
    {
     "data": {
      "image/png": "[encoded data removed]",
      "text/plain": [
       "PyPlot.Figure(PyObject <matplotlib.figure.Figure object at 0x7f3d92b6a8d0>)"
      ]
     },
     "metadata": {},
     "output_type": "display_data"
    },
    {
     "data": {
      "text/plain": [
       "(-1, 1)"
      ]
     },
     "execution_count": 10,
     "metadata": {},
     "output_type": "execute_result"
    }
   ],
   "source": [
    "xlabel(\"1/h\")\n",
    "ylabel(\"valores de la derivada\")\n",
    "plot(y,Dersim(f,0,x))\n",
    "ylim(-1,1)"
   ]
  },
  {
   "cell_type": "markdown",
   "metadata": {
    "collapsed": true
   },
   "source": [
    "en este caso notamos que sin ningún problema el valor  de la derivada es exacto desde el principio pues coseno es simétrico respecto al eje $Y$, por lo cual no hay error en este caso"
   ]
  },
  {
   "cell_type": "markdown",
   "metadata": {},
   "source": [
    "Analizando la serie de la diferencia finita hacia adelante podemos factorizar la función útilizando la propiedad de linealidad del operador derivada, antes pasando del lado izquierdo de la serie a $f(x)$:\n",
    "\n",
    "\\begin{eqnarray}\n",
    "f(x+h)-f(x)&=& \\left[h \\left. \\frac{d}{d \\xi}  \\right|_{\\substack{ \\xi=x }} + \\frac{h^{2}}{2} \\left. \\frac{d^{2}}{d \\xi^{2}}   \\right|_{\\substack{ \\xi_{1}=x }} + \\frac{h^{3}}{6} \\left. \\frac{d^{3}}{d \\xi^{3}}   \\right|_{\\substack{ \\xi=x }} + \\mathcal{O}\\left(h^{4}\\right)\\right]f{\\left (x \\right )}\\\\\n",
    "&=&\\left[ \\sum_{n=1}^{\\infty} \\frac{1}{n!}h^n\\left.\\frac{d^n}{d\\xi^n}\\right|_{\\substack{ \\xi=x }} \\right]f(x)\n",
    "\\end{eqnarray}\n",
    "Luego podemos definir el operador $\\Delta_h$, el cual se define como:\n",
    "$$\\Delta_h:f \\mapsto f(x+h)-f(x)=\\Delta f(x,h).$$\n",
    "__Ejercicio 5:__ Demuestre que $\\Delta_h$ es un operador lineal y que podemos \"factorizar\" la función a la derecha del operador. Hecho esto podemos quitar de ambos lados la función $f$ para obtener lo siguiente:\n",
    "$$\\Delta_h=\\sum_{n=1}^{\\infty} \\frac{1}{n!}h^n\\left.\\frac{d^n}{d\\xi^n}\\right|_{\\substack{ \\xi=x }}$$"
   ]
  },
  {
   "cell_type": "markdown",
   "metadata": {},
   "source": [
    "__Demostración:__en efecto, tomemos el operador$\\Delta_h$ ahora por lo anterior, se tiene que:\n",
    "$$\\Delta_h(f(x)+ag(x))=\\sum_{n=1}^{\\infty} \\frac{1}{n!}h^n\\left.\\frac{d^n(f(x)+ag(x))}{d\\xi^n}\\right|_{\\substack{ \\xi=x }}$$ por lo cual sabemos ya que $\\forall n\\in \\mathbb{N}$ se cumple que:\n",
    "$$\\left.\\frac{d^n(f(x)+ag(x))}{d\\xi^n}\\right|_{\\substack{ \\xi=x }}=\\left.\\frac{d^nf(x)}{d\\xi^n}\\right|_{\\substack{ \\xi=x }}+a\\left.\\frac{d^ng(x)}{d\\xi^n}\\right|_{\\substack{ \\xi=x }}$$\n",
    "por tanto obtenemos:\n",
    "$$\\sum_{n=1}^{\\infty} \\frac{1}{n!}h^n\\left.\\frac{d^n(f(x)+ag(x))}{d\\xi^n}\\right|_{\\substack{ \\xi=x }}=\\sum_{n=1}^{\\infty}\\left(\\frac{1}{n!}h^n\\left.\\frac{d^nf(x)}{d\\xi^n}\\right|_{\\substack{ \\xi=x }}+a\\frac{1}{n!}h^n\\left.\\frac{d^ng(x)}{d\\xi^n}\\right|_{\\substack{ \\xi=x }}\\right)=\\sum_{n=1}^{\\infty} \\frac{1}{n!}h^n\\left.\\frac{d^nf(x)}{d\\xi^n}\\right|_{\\substack{ \\xi=x }}+a\\sum_{n=1}^{\\infty} \\frac{1}{n!}h^n\\left.\\frac{d^ng(x)}{d\\xi^n}\\right|_{\\substack{ \\xi=x }}=\\Delta_hf(x)+a\\Delta_hg(x)$$\n",
    "por esta última expresión y como se tomo $f,g$ derivables en $\\xi$ pero arbitarias, además $a$ se tomo también arbitrario, por tanto concluimos que el operador $\\Delta_h$ es lineal $\\blacksquare$"
   ]
  },
  {
   "cell_type": "markdown",
   "metadata": {},
   "source": [
    "__Ejercicio 6:__ Para saber como se relaciona el _operador derivada exacta_ con el _operador diferencia finita hacia adelante_ es necesario invertir la serie $\\Delta_h=\\sum_{n=1}^{\\infty} \\frac{1}{n!}h^n\\left.\\frac{d^n}{d\\xi^n}\\right|_{\\substack{ \\xi=x }}$. Una forma directa de hacerlo es identificar la función para la cual es esa serie. Entonces, pensando en el operador derivada como un número, la serie se identifica como función evaluada en $\\left. h\\frac{d}{d_\\xi}\\right|_{\\substack{ \\xi=x }}$, ¿cual es esa función?. Si llamamos $\\phi$ a dicha función, deberiamos de tener una relación de la siguiente forma:\n",
    "$$\\Delta_h=\\phi\\left(h\\left.\\frac{d}{d\\xi}\\right|_{\\substack{ \\xi=x }}\\right)$$.\n",
    "    \n",
    "* __Nota:__ En la clase se demostró que $\\phi(x)=e^x-1$, escriba el razonamiento en $\\LaTeX$ de como se llegó a esto."
   ]
  },
  {
   "cell_type": "markdown",
   "metadata": {},
   "source": [
    "__Solución:__ analicemos en primer lugar la función exponencial, para ello recordemos que usando taylor y analiticidad de la exponencial en el punto $x=0$ se obtiene que:\n",
    "$$e^x=\\sum_{k=0}^{\\infty} \\frac{x^n}{n!}$$\n",
    "ahora bien, si pasamos el primer termino que es $1$ obtenemos:\n",
    "$$e^x-1=\\sum_{k=1}^{\\infty} \\frac{x^n}{n!}$$\n",
    "ahora comparamos con la serie que caracteiza a $\\Delta_h$:\n",
    "$$h^n\\left.\\frac{d^n}{d\\xi^n}\\right|_{\\substack{ \\xi=x }}=\\left(h\\left.\\frac{d}{d\\xi}\\right|_{\\substack{ \\xi=x }}\\right)^n\\sim x^n$$\n",
    "por tanto si sustituyeramos esta ultima expresión como una x y usando la serie de taylor de la exponencial se tiene que:\n",
    "$$\\Delta_h=\\sum_{k=1}^{\\infty} \\frac{x^n}{n!}=e^{x}-1$$\n",
    "así que finalmente:\n",
    "$$\\Delta_h=e^{h\\left.\\frac{d}{d\\xi}\\right|_{\\substack{ \\xi=x }}}-1$$\n",
    "y así finalmente obtuvimos lo que buscabamos, es decir:\n",
    "$$\\phi(x)=e^x-1;\\ donde\\ x=h\\left.\\frac{d}{d\\xi}\\right|_{\\substack{ \\xi=x }}$$"
   ]
  },
  {
   "cell_type": "markdown",
   "metadata": {},
   "source": [
    "__Ejercicio 7:__ Explotar la relación $\\delta_h=\\Delta_h-\\Delta_{-h}$, donde $\\delta_h:f(x)\\mapsto f(x+h)-f(x-h)$, para encontrar cual es la función $\\theta$ que relaciona a $\\delta_h$ con el operador derivada exacta, es decir:\n",
    "$$\\delta_h=\\theta\\left(h\\left. \\frac{d}{d\\xi}\\right|_{\\xi=x}\\right).$$\n",
    "\n",
    "Una vez que la encuentren, despejen $\\left. \\frac{d}{d\\xi}\\right|_{\\xi=x}$ y calculen la serie de Taylor de mánera similar a lo mostrado en las ecuaciones 3 y 4."
   ]
  },
  {
   "cell_type": "markdown",
   "metadata": {},
   "source": [
    "__solución:__\n",
    "recordando lo que obtuvimos en el ejercicio 3:\n",
    "ahora analicemos para f sus dos series de taylor en $h$ y $-h$:\n",
    "$$f(x+h)=\\sum_{k=0}^{\\infty} \\frac{f^{(k)}(x)\\cdot (h)^k}{k!}$$\n",
    "$$f(x-h)=\\sum_{k=0}^{\\infty} \\frac{f^{(k)}(x)\\cdot (-h)^k}{k!}$$\n",
    "entonces es claro que si restamos las dos series obtenemos:\n",
    "$$\\delta_h=f(x+h)-f(x-h)=f(x+h)-f(x)+f(x)-f(x-h)=\\Delta_h-\\Delta_{-h}$$\n",
    "por el ejercicio anterior tenemos que:\n",
    "$$\\Delta_h =e^{h\\frac{d}{d\\xi}|_{\\xi=x}}-1$$\n",
    "$$\\Delta_{-h} =e^{-h\\frac{d}{d\\xi}|_{\\xi=x}}-1$$\n",
    "por tanto:\n",
    "$$\\delta_h=e^{h\\frac{d}{d\\xi}|_{\\xi=x}}-e^{-h\\frac{d}{d\\xi}|_{\\xi=x}}=2senh(-h\\frac{d}{d\\xi}|_{\\xi=x})$$\n",
    "así finalmente despejando obtenemos que:\n",
    "$$\\theta\\left(h\\left. \\frac{d}{d\\xi}\\right|_{\\xi=x}\\right)=senh(\\left(h\\left. \\frac{d}{d\\xi}\\right|_{\\xi=x}\\right)$$\n",
    "$$\\frac{d}{d\\xi}|_{\\xi=x}=\\frac{senh^{-1}(\\frac{\\delta_h}{2})}{h}$$\n"
   ]
  },
  {
   "cell_type": "code",
   "execution_count": null,
   "metadata": {
    "collapsed": true
   },
   "outputs": [],
   "source": []
  }
 ],
 "metadata": {
  "kernelspec": {
   "display_name": "Julia 0.6.0",
   "language": "julia",
   "name": "julia-0.6"
  },
  "language_info": {
   "file_extension": ".jl",
   "mimetype": "application/julia",
   "name": "julia",
   "version": "0.6.0"
  }
 },
 "nbformat": 4,
 "nbformat_minor": 2
}
