{
 "cells": [
  {
   "cell_type": "code",
   "execution_count": 2,
   "metadata": {
    "collapsed": false
   },
   "outputs": [
    {
     "name": "stderr",
     "output_type": "stream",
     "text": [
      "\u001b[1m\u001b[36mINFO: \u001b[39m\u001b[22m\u001b[36mPackage PyPlot is already installed\n",
      "\u001b[39m\u001b[1m\u001b[36mINFO: \u001b[39m\u001b[22m\u001b[36mMETADATA is out-of-date — you may not have the latest version of PyPlot\n",
      "\u001b[39m\u001b[1m\u001b[36mINFO: \u001b[39m\u001b[22m\u001b[36mUse `Pkg.update()` to get the latest versions of your packages\n",
      "\u001b[39m"
     ]
    }
   ],
   "source": [
    "Pkg.add(\"PyPlot\")"
   ]
  },
  {
   "cell_type": "markdown",
   "metadata": {},
   "source": [
    "# Derivación numérica"
   ]
  },
  {
   "cell_type": "markdown",
   "metadata": {},
   "source": [
    "__Ejercicio 1__. Escribe una función `derivadaNumerica` que\n",
    "reciba: una función $f\\colon \\mathbb{R}\\mapsto\\mathbb{R}$,\n",
    "un punto $x_0\\in\\mathbb{R}$ y un número $h\\in\\mathbb{R}$. Esta función deberá calcular una aproximación a la\n",
    "derivada utilizando la definición indicada arriba ignorando\n",
    "la parte del límite. Es decir, algo como: `derivada_numerica(f,x,h)`."
   ]
  },
  {
   "cell_type": "markdown",
   "metadata": {},
   "source": [
    "__solución:__en esta parte crearemos una función llamada dn, la cual usara la fórmula:\n",
    "$$f'(x)\\approx \\frac{f(x+h)-f(x)}{h}$$\n",
    "además como en el ejrcicio 2 se pide graficar para bastantes puntos, crearemos esta función de manera que $x$ se un número, pero $h$ sea un conjunto de valores"
   ]
  },
  {
   "cell_type": "code",
   "execution_count": 25,
   "metadata": {
    "collapsed": false
   },
   "outputs": [
    {
     "name": "stderr",
     "output_type": "stream",
     "text": [
      "\u001b[1m\u001b[33mWARNING: \u001b[39m\u001b[22m\u001b[33mreplacing docs for 'dn :: Tuple{Any,Any,Any}' in module 'Main'.\u001b[39m\n"
     ]
    },
    {
     "data": {
      "text/plain": [
       "dn"
      ]
     },
     "execution_count": 25,
     "metadata": {},
     "output_type": "execute_result"
    }
   ],
   "source": [
    "doc\"\"\"\n",
    "esta función calcula el valor aproximado de f'(x) usando la aproximación $f'(a)\\approx \\frac{f(a+h)-f(x)}{h}$ , por favor introduza (f,a,h), h puede ser un conjunto de valores (vector), por ejemplo, para f(x)=x si ponemos a=0 h=3 se tiene 3\n",
    "\"\"\"\n",
    "function dn(f,a,h0)\n",
    "    L=length(h0)#como pensamos en un arreglo primero vemos cuantos elementos tiene\n",
    "    g(x)=f(x)#convertimos de simbolos a valores via g\n",
    "    d(h)=(g(a+h)-g(a))/h#usamos la formula en x=a\n",
    "    D=[] #creamos un vector vacío para ir guardando los resultados\n",
    "    for i in 1:L #para cada elemento en h vamos a aplicar d(h) es decir aproximamos la derivada en cada valor de h\n",
    "        push!(D,d(h0[i]))#aplicamos a cada elemento y lo guardamos en D\n",
    "        end\n",
    "        return D #pedimos que nos devuelva los resultados\n",
    "    end"
   ]
  },
  {
   "cell_type": "code",
   "execution_count": 26,
   "metadata": {
    "collapsed": false
   },
   "outputs": [
    {
     "data": {
      "text/plain": [
       "f (generic function with 1 method)"
      ]
     },
     "execution_count": 26,
     "metadata": {},
     "output_type": "execute_result"
    }
   ],
   "source": [
    "f(x)=x*x #usaremos esta función para probar el método"
   ]
  },
  {
   "cell_type": "code",
   "execution_count": 27,
   "metadata": {
    "collapsed": false
   },
   "outputs": [
    {
     "data": {
      "text/plain": [
       "1-element Array{Any,1}:\n",
       " 1.0"
      ]
     },
     "execution_count": 27,
     "metadata": {},
     "output_type": "execute_result"
    }
   ],
   "source": [
    "dn(f,0,1)#ya sabemos que f'(0)=0 para ello comprabamos que con h=1 aún no se parece"
   ]
  },
  {
   "cell_type": "code",
   "execution_count": 28,
   "metadata": {
    "collapsed": false
   },
   "outputs": [
    {
     "data": {
      "text/plain": [
       "1-element Array{Any,1}:\n",
       " 1.0e-7"
      ]
     },
     "execution_count": 28,
     "metadata": {},
     "output_type": "execute_result"
    }
   ],
   "source": [
    "dn(f,0,0.0000001)#pero poco a poco se va pareciendo"
   ]
  },
  {
   "cell_type": "markdown",
   "metadata": {},
   "source": [
    "__Ejercicio 2__. Utiliza tu función `derivadaNumerica` para\n",
    "calcular la derivada de la función $\\cos$ en un punto\n",
    "$x_0\\in[0,1)$. Compara tu resultado con el que indica el\n",
    "cálculo exacto. Utiliza valores de $h$ cada vez más pequeños, grafica el comportamiento de la derivada y muestra como converge al valor exacto conforme tomamos $h$'s cada vez más pequeño. Para ello pueden graficar el resultado de la derivada numérica contra $1/h$.\n",
    "Observa el resultado de la aproximación y comenta. ¿El error es del orden de $h$?, para ver esto grafica el error relativo a $f'(x_0)$:\n",
    "$$\\epsilon=\\frac{\\Delta f(x_0,h)/h-f'(x_0)}{f'(x_0)},$$\n",
    "respecto a $h$."
   ]
  },
  {
   "cell_type": "code",
   "execution_count": 37,
   "metadata": {
    "collapsed": false
   },
   "outputs": [
    {
     "data": {
      "text/plain": [
       "1.0e-8:1.0e-8:1.0e-5"
      ]
     },
     "execution_count": 37,
     "metadata": {},
     "output_type": "execute_result"
    }
   ],
   "source": [
    "b=0.00000001:0.00000001:0.00001#creamos una arreglo que tome valores pequeños para usarlos como h"
   ]
  },
  {
   "cell_type": "code",
   "execution_count": 38,
   "metadata": {
    "collapsed": false
   },
   "outputs": [
    {
     "data": {
      "text/plain": [
       "f (generic function with 1 method)"
      ]
     },
     "execution_count": 38,
     "metadata": {},
     "output_type": "execute_result"
    }
   ],
   "source": [
    "f(x)=cos(x)#ahora definimos la función que queremos analizar"
   ]
  },
  {
   "cell_type": "code",
   "execution_count": 39,
   "metadata": {
    "collapsed": false
   },
   "outputs": [
    {
     "data": {
      "text/plain": [
       "1000-element Array{Any,1}:\n",
       "  0.0       \n",
       " -1.11022e-8\n",
       " -1.4803e-8 \n",
       " -1.94289e-8\n",
       " -2.44249e-8\n",
       " -2.96059e-8\n",
       " -3.48927e-8\n",
       " -4.02456e-8\n",
       " -4.44089e-8\n",
       " -4.996e-8  \n",
       " -5.45019e-8\n",
       " -6.01371e-8\n",
       " -6.49053e-8\n",
       "  ⋮         \n",
       " -4.94501e-6\n",
       " -4.95e-6   \n",
       " -4.955e-6  \n",
       " -4.96e-6   \n",
       " -4.965e-6  \n",
       " -4.97e-6   \n",
       " -4.975e-6  \n",
       " -4.98e-6   \n",
       " -4.985e-6  \n",
       " -4.99e-6   \n",
       " -4.995e-6  \n",
       " -5.0e-6    "
      ]
     },
     "execution_count": 39,
     "metadata": {},
     "output_type": "execute_result"
    }
   ],
   "source": [
    "dn(f,0,b) #aplicamos la derivada numérica en 0 donde ya sabemos que vale 0"
   ]
  },
  {
   "cell_type": "code",
   "execution_count": null,
   "metadata": {
    "collapsed": true
   },
   "outputs": [],
   "source": [
    "doc\"\"\"\n",
    "esta función calcula el error relativo "
   ]
  },
  {
   "cell_type": "code",
   "execution_count": null,
   "metadata": {
    "collapsed": true
   },
   "outputs": [],
   "source": []
  },
  {
   "cell_type": "markdown",
   "metadata": {},
   "source": [
    "__Ejercicio 3__. Teniendo en mente la serie de Taylor para $f(x+h)$ ¿existe\n",
    "alguna forma de mejorar el cálculo de la derivada numérica? Comenta.\n",
    "\n",
    "__Tip:__ ¿Que pasa con los términos pares de la serie cuando la calculamos para $f(x-h)$?, ¿Como podemos despejar la derivada exacta de $f$ combinando ambas series? \n",
    "\n",
    "__Nota:__ Entregar en $\\LaTeX$ en el notebook de la tarea."
   ]
  },
  {
   "cell_type": "markdown",
   "metadata": {},
   "source": [
    "__solución:__ahora analicemos para f sus dos series de taylor en $h$ y $-h$:\n",
    "$$f(x+h)=\\sum_{k=0}^{\\infty} \\frac{f^{(k)}(x)\\cdot (h)^k}{k!}$$\n",
    "$$f(x-h)=\\sum_{k=0}^{\\infty} \\frac{f^{(k)}(x)\\cdot (-h)^k}{k!}$$\n",
    "entonces es claro que si restamos las dos series obtenemos:\n",
    "$$f(x+h)-f(x-h)=\\sum_{k=0}^{\\infty} \\frac{f^{(k)(x)}}{k!}\\cdot (h^k-(-h)^k)=\\sum_{k=0}^{\\infty} \\frac{f^{(k)}(x)}{k!}\\cdot (h^k+(-1)^{k+1}\\cdot h^k)=\\sum_{k=0}^{\\infty} \\frac{2f^{(2k+1)}(x)\\cdot h^{2k+1}}{(2k+1)!}$$\n",
    "ahora solo consideramos el primer termino, es decir usamos:\n",
    "$$\\sum_{k=0}^{\\infty} \\frac{2f^{(2k+1)}(x)\\cdot h^{2k+1}}{(2k+1)!} \\approx 2f'(x)h\\ \\therefore\\ f'(x)\\approx \\frac{f(x+h)-f(x-h)}{2h}$$"
   ]
  },
  {
   "cell_type": "markdown",
   "metadata": {},
   "source": [
    "__Pregunta:__ ¿Hay una forma de construir una derivada numérica aún mas exacta sin tener que hacer $h$ arbitrariamente pequeño?, ¿que opinas?\n",
    "\n",
    "__Respuesta:__no, en mi opinión para la derivada se tomo un límite cuando h se hace pequeño, por tanto entre mas pequeño, mas se parece y si podemos hacer que al disminuir algún otro parámetro se acerque al valor real, es por que este parámetro al hacerse pequeño implica que h también lo haga."
   ]
  },
  {
   "cell_type": "markdown",
   "metadata": {},
   "source": [
    "__Ejercicio 4__. Implementa la _derivada\n",
    "simétrica_ en `Julia` como `derivada_Simetrica` y repite la\n",
    "comparativa que realizaste en el __ejercicio 2__."
   ]
  },
  {
   "cell_type": "markdown",
   "metadata": {},
   "source": [
    "Analizando la serie de la diferencia finita hacia adelante podemos factorizar la función útilizando la propiedad de linealidad del operador derivada, antes pasando del lado izquierdo de la serie a $f(x)$:\n",
    "\n",
    "\\begin{eqnarray}\n",
    "f(x+h)-f(x)&=& \\left[h \\left. \\frac{d}{d \\xi}  \\right|_{\\substack{ \\xi=x }} + \\frac{h^{2}}{2} \\left. \\frac{d^{2}}{d \\xi^{2}}   \\right|_{\\substack{ \\xi_{1}=x }} + \\frac{h^{3}}{6} \\left. \\frac{d^{3}}{d \\xi^{3}}   \\right|_{\\substack{ \\xi=x }} + \\mathcal{O}\\left(h^{4}\\right)\\right]f{\\left (x \\right )}\\\\\n",
    "&=&\\left[ \\sum_{n=1}^{\\infty} \\frac{1}{n!}h^n\\left.\\frac{d^n}{d\\xi^n}\\right|_{\\substack{ \\xi=x }} \\right]f(x)\n",
    "\\end{eqnarray}\n",
    "Luego podemos definir el operador $\\Delta_h$, el cual se define como:\n",
    "$$\\Delta_h:f \\mapsto f(x+h)-f(x)=\\Delta f(x,h).$$\n",
    "__Ejercicio 5:__ Demuestre que $\\Delta_h$ es un operador lineal y que podemos \"factorizar\" la función a la derecha del operador. Hecho esto podemos quitar de ambos lados la función $f$ para obtener lo siguiente:\n",
    "$$\\Delta_h=\\sum_{n=1}^{\\infty} \\frac{1}{n!}h^n\\left.\\frac{d^n}{d\\xi^n}\\right|_{\\substack{ \\xi=x }}$$"
   ]
  },
  {
   "cell_type": "markdown",
   "metadata": {},
   "source": [
    "__Ejercicio 6:__ Para saber como se relaciona el _operador derivada exacta_ con el _operador diferencia finita hacia adelante_ es necesario invertir la serie $\\Delta_h=\\sum_{n=1}^{\\infty} \\frac{1}{n!}h^n\\left.\\frac{d^n}{d\\xi^n}\\right|_{\\substack{ \\xi=x }}$. Una forma directa de hacerlo es identificar la función para la cual es esa serie. Entonces, pensando en el operador derivada como un número, la serie se identifica como función evaluada en $\\left. h\\frac{d}{d_\\xi}\\right|_{\\substack{ \\xi=x }}$, ¿cual es esa función?. Si llamamos $\\phi$ a dicha función, deberiamos de tener una relación de la siguiente forma:\n",
    "$$\\Delta_h=\\phi\\left(h\\left.\\frac{d}{d\\xi}\\right|_{\\substack{ \\xi=x }}\\right)$$.\n",
    "    \n",
    "* __Nota:__ En la clase se demostró que $\\phi(x)=e^x-1$, escriba el razonamiento en $\\LaTeX$ de como se llegó a esto."
   ]
  },
  {
   "cell_type": "markdown",
   "metadata": {},
   "source": [
    "__Ejercicio 7:__ Explotar la relación $\\delta_h=\\Delta_h-\\Delta_{-h}$, donde $\\delta_h:f(x)\\mapsto f(x+h)-f(x-h)$, para encontrar cual es la función $\\theta$ que relaciona a $\\delta_h$ con el operador derivada exacta, es decir:\n",
    "$$\\delta_h=\\theta\\left(h\\left. \\frac{d}{d\\xi}\\right|_{\\xi=x}\\right).$$\n",
    "\n",
    "Una vez que la encuentren, despejen $\\left. \\frac{d}{d\\xi}\\right|_{\\xi=x}$ y calculen la serie de Taylor de mánera similar a lo mostrado en las ecuaciones 3 y 4."
   ]
  },
  {
   "cell_type": "markdown",
   "metadata": {},
   "source": [
    "__solución:__\n",
    "recordando lo que obtuvimos en el ejercicio 3:\n",
    "ahora analicemos para f sus dos series de taylor en $h$ y $-h$:\n",
    "$$f(x+h)=\\sum_{k=0}^{\\infty} \\frac{f^{(k)}(x)\\cdot (h)^k}{k!}$$\n",
    "$$f(x-h)=\\sum_{k=0}^{\\infty} \\frac{f^{(k)}(x)\\cdot (-h)^k}{k!}$$\n",
    "entonces es claro que si restamos las dos series obtenemos:\n",
    "$$\\delta_h=f(x+h)-f(x-h)=f(x+h)-f(x)+f(x)-f(x-h)=\\Delta_h-\\Delta_{-h}$$\n",
    "por el ejercicio anterior tenemos que:\n",
    "$$\\Delta_h =e^{h\\frac{d}{d\\xi}|_{\\xi=x}}-1$$\n",
    "$$\\Delta_{-h} =e^{-h\\frac{d}{d\\xi}|_{\\xi=x}}-1$$\n",
    "por tanto:\n",
    "$$\\delta_h=e^{h\\frac{d}{d\\xi}|_{\\xi=x}}-e^{-h\\frac{d}{d\\xi}|_{\\xi=x}}=2senh(-h\\frac{d}{d\\xi}|_{\\xi=x})$$\n",
    "así finalmente despejando obtenemos que:\n",
    "$$\\theta\\left(h\\left. \\frac{d}{d\\xi}\\right|_{\\xi=x}\\right)=senh(\\left(h\\left. \\frac{d}{d\\xi}\\right|_{\\xi=x}\\right)$$\n",
    "$$\\frac{d}{d\\xi}|_{\\xi=x}=\\frac{senh^{-1}(\\frac{\\delta_h}{2})}{h}$$\n"
   ]
  },
  {
   "cell_type": "code",
   "execution_count": null,
   "metadata": {
    "collapsed": true
   },
   "outputs": [],
   "source": []
  }
 ],
 "metadata": {
  "kernelspec": {
   "display_name": "Julia 0.6.0",
   "language": "julia",
   "name": "julia-0.6"
  },
  "language_info": {
   "file_extension": ".jl",
   "mimetype": "application/julia",
   "name": "julia",
   "version": "0.6.0"
  }
 },
 "nbformat": 4,
 "nbformat_minor": 2
}
