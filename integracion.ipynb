{
 "cells": [
  {
   "cell_type": "markdown",
   "metadata": {},
   "source": [
    "# integración numérica"
   ]
  },
  {
   "cell_type": "markdown",
   "metadata": {},
   "source": [
    "en primer lugar se suponen ya conocidos los conceptos de función integrable, el proposito de la integración numérica es generar una forma aproximada de calcular \n",
    "$$\\int_{a}^{b} f(x)dx$$\n",
    "sin necesidad de encontrar una primitiva e incluso sin necesidad de que f fuera continua (en cuyo caso no existiria una primitiva que nos garantice lo que se hace para calcular por ejemplo $$\\int_{a}^{b} cos(x)dx$$).\n",
    "para ello exponemos de manera muy breve 3 metodos para calcular numéricamente una integral"
   ]
  },
  {
   "cell_type": "markdown",
   "metadata": {},
   "source": [
    "## rectangulos (aproximación constante)"
   ]
  },
  {
   "cell_type": "markdown",
   "metadata": {},
   "source": [
    "ahora lo que vamos a hacer es que vamos a particionar [a,b] donde tomamos como partición (y de hecho para todos los demas metodos tomamos lo mismo) la siguiente:\n",
    "$$P= a,a+\\frac{b-a}{n},...,a+b-a=b$$\n",
    "una vez tomada para formar un rectangulo solo tenemos que evaluar la funcion en punto intermedio en cada intervalo de la partición, para nuestro caso tomaremos el punto medio (como se ve en la imagen mas abajo), por tanto obtenemos:\n",
    "![Rectángulo](https://upload.wikimedia.org/wikipedia/commons/2/26/Integration_rectangle.svg)\n",
    "$$\\int_{a}^{b} f(x)dx \\approx \\sum_{k=0}^{n} \\frac{b-a}{n} f(\\frac {a+\\frac{(2k+1)(b-a)}{n}}{2})$$\n",
    "que nos da una primera aproximación."
   ]
  },
  {
   "cell_type": "markdown",
   "metadata": {},
   "source": [
    "## trapecios (aproximación lineal)"
   ]
  },
  {
   "cell_type": "markdown",
   "metadata": {},
   "source": [
    "ahora trabajando con la misma partición, tomamos la recta que une a la función en cada intervalo, tal y como se señala en la imagen de mas abajo:\n",
    "![Trapecio](https://upload.wikimedia.org/wikipedia/commons/0/03/Integration_trapezoid.svg)\n",
    "ahora solo calculamos cada area y las sumamos:\n",
    "$\\int_a^b f(x)dx\\approx h[(f(a)+f(a+h))+(f(a+h)+f(a+2h))+\\ldots+(f(a+(n-2)h)+f(a+(n-1)h))+(f(a+(n-1)h)+f(b))]$\n",
    "la cual se puede componer observando parecido entre terminos como:\n",
    "$\\int_a^b f(x)dx=\\lim_{n\\rightarrow\\infty}\\displaystyle\\frac{b-a}{n}[\\displaystyle\\frac{f(a)+f(b)}{2}+\\sum_{k=1}^{n-1}f(a+k\\displaystyle\\frac{b-a}{n})]$\n",
    "lo interesante es que por ejemplo, este metodo funciona mucho mejor para funciones lineales, en donde da resultado exacto por obvias razones, en cambio el metrodo de rectangulos no da resultados tan precisos"
   ]
  },
  {
   "cell_type": "markdown",
   "metadata": {},
   "source": [
    "## parábolas o método de Simpson (aproximación cuadrática)"
   ]
  },
  {
   "cell_type": "markdown",
   "metadata": {},
   "source": [
    "ahora tomando la misma partición, queremos aproximar la función por una parabola en cada parte de la partición, para ello debemos recordar que dados tres puntos no colineales, existe una única parábola que pasa por ellos, entonces tomamos como puntos los extremos de cada intervalo y por su puesto, el punto medio en cada caso, de esta manera en primer lugar por medio de interpolación de Lagrange, obtenemos que la parábola que aproxima mejor en los puntos $x_i,x_j$ es:\n",
    "$$P_2(x)=f(x_i)\\displaystyle\\frac{(x-m)(x-x_j)}{(x_i-m)(x_i-x_j)}+f(m)\\displaystyle\\frac{(x-x_i)(x-x_j)}{(m-x_i)(m-x_j)}+f(x_j )\\displaystyle\\frac{(x-x_i)(x-m)}{(x_j-x_i)(x_j-m)}$$\n",
    "donde en nuestro caso $$m=\\frac{x_i + x_j}{2}$$ $$j=i+1$$\n",
    "ahora entonces solo necesitamos calcular cada integral:\n",
    "$$\\int_{x_{j-1}}^{x_{j+1}} f(x)dx\\approx\\displaystyle\\frac{x_{j+1}-x_{j-1}}{3}[f(x_{j-1})+4f(x_j)+f(x_{i+j})]$$\n",
    "ahora solo sumamos las integrales y simplificamos:\n",
    "$$\\int_a^b f(x)dx\\approx\\displaystyle\\frac{h}{3}[f(x_0)+2\\sum_{j=1}^{\\small\\displaystyle\\frac{n}{2}-1}f(x_{2j})+4\\sum_{j=1}^{\\small\\displaystyle\\frac{n}{2}}f(x_{2j-1})+f(x_n)]$$\n",
    "las parabolas que interpolan estan señaladas en azul en la siguiente imagen:\n",
    "![Simpson](https://upload.wikimedia.org/wikipedia/commons/1/13/Integration_simpson.svg)"
   ]
  },
  {
   "cell_type": "markdown",
   "metadata": {},
   "source": [
    "## conclusiones"
   ]
  },
  {
   "cell_type": "markdown",
   "metadata": {},
   "source": [
    "en cada caso resulta mas conveniente un método u otro, pero sea cual sea su uso, su principal objetivo es ayudarnos a poder calcular integrales via la computación."
   ]
  }
 ],
 "metadata": {
  "kernelspec": {
   "display_name": "Julia 0.6.0",
   "language": "julia",
   "name": "julia-0.6"
  },
  "language_info": {
   "file_extension": ".jl",
   "mimetype": "application/julia",
   "name": "julia",
   "version": "0.6.0"
  }
 },
 "nbformat": 4,
 "nbformat_minor": 2
}
