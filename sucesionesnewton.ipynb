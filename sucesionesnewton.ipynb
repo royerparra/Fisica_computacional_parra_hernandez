{
 "cells": [
  {
   "cell_type": "code",
   "execution_count": null,
   "metadata": {
    "collapsed": true
   },
   "outputs": [],
   "source": [
    "añadimos las paqueterias que usaremos previamente"
   ]
  },
  {
   "cell_type": "code",
   "execution_count": 1,
   "metadata": {
    "collapsed": false
   },
   "outputs": [
    {
     "name": "stderr",
     "output_type": "stream",
     "text": [
      "\u001b[1m\u001b[36mINFO: \u001b[39m\u001b[22m\u001b[36mInitializing package repository /home/juser/.julia/v0.6\n",
      "\u001b[39m\u001b[1m\u001b[36mINFO: \u001b[39m\u001b[22m\u001b[36mCloning METADATA from https://github.com/JuliaLang/METADATA.jl\n",
      "\u001b[39m\u001b[1m\u001b[36mINFO: \u001b[39m\u001b[22m\u001b[36mCloning cache of BinDeps from https://github.com/JuliaLang/BinDeps.jl.git\n",
      "\u001b[39m\u001b[1m\u001b[36mINFO: \u001b[39m\u001b[22m\u001b[36mCloning cache of ColorTypes from https://github.com/JuliaGraphics/ColorTypes.jl.git\n",
      "\u001b[39m\u001b[1m\u001b[36mINFO: \u001b[39m\u001b[22m\u001b[36mCloning cache of Colors from https://github.com/JuliaGraphics/Colors.jl.git\n",
      "\u001b[39m\u001b[1m\u001b[36mINFO: \u001b[39m\u001b[22m\u001b[36mCloning cache of Compat from https://github.com/JuliaLang/Compat.jl.git\n",
      "\u001b[39m\u001b[1m\u001b[36mINFO: \u001b[39m\u001b[22m\u001b[36mCloning cache of Conda from https://github.com/JuliaPy/Conda.jl.git\n",
      "\u001b[39m\u001b[1m\u001b[36mINFO: \u001b[39m\u001b[22m\u001b[36mCloning cache of FixedPointNumbers from https://github.com/JuliaMath/FixedPointNumbers.jl.git\n",
      "\u001b[39m\u001b[1m\u001b[36mINFO: \u001b[39m\u001b[22m\u001b[36mCloning cache of JSON from https://github.com/JuliaIO/JSON.jl.git\n",
      "\u001b[39m\u001b[1m\u001b[36mINFO: \u001b[39m\u001b[22m\u001b[36mCloning cache of LaTeXStrings from https://github.com/stevengj/LaTeXStrings.jl.git\n",
      "\u001b[39m\u001b[1m\u001b[36mINFO: \u001b[39m\u001b[22m\u001b[36mCloning cache of MacroTools from https://github.com/MikeInnes/MacroTools.jl.git\n",
      "\u001b[39m\u001b[1m\u001b[36mINFO: \u001b[39m\u001b[22m\u001b[36mCloning cache of PyCall from https://github.com/JuliaPy/PyCall.jl.git\n",
      "\u001b[39m\u001b[1m\u001b[36mINFO: \u001b[39m\u001b[22m\u001b[36mCloning cache of PyPlot from https://github.com/JuliaPy/PyPlot.jl.git\n",
      "\u001b[39m\u001b[1m\u001b[36mINFO: \u001b[39m\u001b[22m\u001b[36mCloning cache of Reexport from https://github.com/simonster/Reexport.jl.git\n",
      "\u001b[39m\u001b[1m\u001b[36mINFO: \u001b[39m\u001b[22m\u001b[36mCloning cache of SHA from https://github.com/staticfloat/SHA.jl.git\n",
      "\u001b[39m\u001b[1m\u001b[36mINFO: \u001b[39m\u001b[22m\u001b[36mCloning cache of URIParser from https://github.com/JuliaWeb/URIParser.jl.git\n",
      "\u001b[39m\u001b[1m\u001b[36mINFO: \u001b[39m\u001b[22m\u001b[36mInstalling BinDeps v0.6.0\n",
      "\u001b[39m\u001b[1m\u001b[36mINFO: \u001b[39m\u001b[22m\u001b[36mInstalling ColorTypes v0.6.1\n",
      "\u001b[39m\u001b[1m\u001b[36mINFO: \u001b[39m\u001b[22m\u001b[36mInstalling Colors v0.8.1\n",
      "\u001b[39m\u001b[1m\u001b[36mINFO: \u001b[39m\u001b[22m\u001b[36mInstalling Compat v0.31.0\n",
      "\u001b[39m\u001b[1m\u001b[36mINFO: \u001b[39m\u001b[22m\u001b[36mInstalling Conda v0.7.0\n",
      "\u001b[39m\u001b[1m\u001b[36mINFO: \u001b[39m\u001b[22m\u001b[36mInstalling FixedPointNumbers v0.4.0\n",
      "\u001b[39m\u001b[1m\u001b[36mINFO: \u001b[39m\u001b[22m\u001b[36mInstalling JSON v0.13.0\n",
      "\u001b[39m\u001b[1m\u001b[36mINFO: \u001b[39m\u001b[22m\u001b[36mInstalling LaTeXStrings v0.2.1\n",
      "\u001b[39m\u001b[1m\u001b[36mINFO: \u001b[39m\u001b[22m\u001b[36mInstalling MacroTools v0.3.7\n",
      "\u001b[39m\u001b[1m\u001b[36mINFO: \u001b[39m\u001b[22m\u001b[36mInstalling PyCall v1.14.0\n",
      "\u001b[39m\u001b[1m\u001b[36mINFO: \u001b[39m\u001b[22m\u001b[36mInstalling PyPlot v2.3.2\n",
      "\u001b[39m\u001b[1m\u001b[36mINFO: \u001b[39m\u001b[22m\u001b[36mInstalling Reexport v0.0.3\n",
      "\u001b[39m\u001b[1m\u001b[36mINFO: \u001b[39m\u001b[22m\u001b[36mInstalling SHA v0.5.1\n",
      "\u001b[39m\u001b[1m\u001b[36mINFO: \u001b[39m\u001b[22m\u001b[36mInstalling URIParser v0.2.0\n",
      "\u001b[39m\u001b[1m\u001b[36mINFO: \u001b[39m\u001b[22m\u001b[36mBuilding Conda\n",
      "\u001b[39m\u001b[1m\u001b[36mINFO: \u001b[39m\u001b[22m\u001b[36mBuilding PyCall\n",
      "\u001b[39m\u001b[1m\u001b[36mINFO: \u001b[39m\u001b[22m\u001b[36mPyCall is using python (Python 2.7.12) at /usr/bin/python, libpython = libpython2.7\n",
      "\u001b[39m\u001b[1m\u001b[36mINFO: \u001b[39m\u001b[22m\u001b[36m/home/juser/.julia/v0.6/PyCall/deps/deps.jl has been updated\n",
      "\u001b[39m\u001b[1m\u001b[36mINFO: \u001b[39m\u001b[22m\u001b[36m/home/juser/.julia/v0.6/PyCall/deps/PYTHON has been updated\n",
      "\u001b[39m\u001b[1m\u001b[36mINFO: \u001b[39m\u001b[22m\u001b[36mPackage database updated\n",
      "\u001b[39m"
     ]
    }
   ],
   "source": [
    "Pkg.add(\"PyPlot\")"
   ]
  },
  {
   "cell_type": "code",
   "execution_count": 100,
   "metadata": {
    "collapsed": false
   },
   "outputs": [
    {
     "name": "stderr",
     "output_type": "stream",
     "text": [
      "\u001b[1m\u001b[36mINFO: \u001b[39m\u001b[22m\u001b[36mPackage SymPy is already installed\n",
      "\u001b[39m\u001b[1m\u001b[36mINFO: \u001b[39m\u001b[22m\u001b[36mMETADATA is out-of-date — you may not have the latest version of SymPy\n",
      "\u001b[39m\u001b[1m\u001b[36mINFO: \u001b[39m\u001b[22m\u001b[36mUse `Pkg.update()` to get the latest versions of your packages\n",
      "\u001b[39m"
     ]
    }
   ],
   "source": [
    "Pkg.add(\"SymPy\")"
   ]
  },
  {
   "cell_type": "markdown",
   "metadata": {
    "collapsed": true
   },
   "source": [
    "# sucesión"
   ]
  },
  {
   "cell_type": "markdown",
   "metadata": {},
   "source": [
    "en primer lugar vamoa trabajar con el metodo de newton definiendo las sucesiones de errores e iteraciones"
   ]
  },
  {
   "cell_type": "code",
   "execution_count": 32,
   "metadata": {
    "collapsed": false
   },
   "outputs": [
    {
     "data": {
      "text/plain": [
       "suc (generic function with 1 method)"
      ]
     },
     "execution_count": 32,
     "metadata": {},
     "output_type": "execute_result"
    }
   ],
   "source": [
    "#usaremos una función a la cual le indiquemos el punto de partida a y la cantidad de iteraciones\n",
    "function suc(a,n)\n",
    "    b=(1/3)*(1+(19-3*sqrt(33))^(1/3)+(19+3*sqrt(33))^(1/3))# este valor es el de la raíz exacta dada por wolfram\n",
    "    f(x)=complex((x*x*x)-(x*x)-x-1)/complex((3*x*x)-(2*x)-1)#esta función es la funcion entre su derivada\n",
    "    e(x)=complex(x-b)/b #esta funcion nos da el error\n",
    "    c=a-f(a) #definimos ahora el punto inicial...\n",
    "    d=e(a) #y su error\n",
    "    list=zeros(Complex64,n) #ahora creamos la lista de la sucesión\n",
    "    for i in 1:n #creamos nuestro for de manera que n sea lo maximo\n",
    "        c=c-f(c)#ahora solo ponemos el metodo de newton con su error\n",
    "        d=e(c)\n",
    "        list[i]=c#guardamos lo que obtuvimos\n",
    "    end\n",
    "    return list#le pedimos que devuelva la lista\n",
    "end"
   ]
  },
  {
   "cell_type": "code",
   "execution_count": 33,
   "metadata": {
    "collapsed": false
   },
   "outputs": [
    {
     "data": {
      "text/plain": [
       "20-element Array{Complex{Float32},1}:\n",
       " 1.83954-0.0im\n",
       " 1.83929-0.0im\n",
       " 1.83929-0.0im\n",
       " 1.83929-0.0im\n",
       " 1.83929-0.0im\n",
       " 1.83929-0.0im\n",
       " 1.83929-0.0im\n",
       " 1.83929-0.0im\n",
       " 1.83929-0.0im\n",
       " 1.83929-0.0im\n",
       " 1.83929-0.0im\n",
       " 1.83929-0.0im\n",
       " 1.83929-0.0im\n",
       " 1.83929-0.0im\n",
       " 1.83929-0.0im\n",
       " 1.83929-0.0im\n",
       " 1.83929-0.0im\n",
       " 1.83929-0.0im\n",
       " 1.83929-0.0im\n",
       " 1.83929-0.0im"
      ]
     },
     "execution_count": 33,
     "metadata": {},
     "output_type": "execute_result"
    }
   ],
   "source": [
    "suc(2,20)"
   ]
  },
  {
   "cell_type": "code",
   "execution_count": 34,
   "metadata": {
    "collapsed": false
   },
   "outputs": [
    {
     "data": {
      "text/plain": [
       "20-element Array{Complex{Float32},1}:\n",
       "  1.9517-0.0im\n",
       " 1.84847-0.0im\n",
       " 1.83936-0.0im\n",
       " 1.83929-0.0im\n",
       " 1.83929-0.0im\n",
       " 1.83929-0.0im\n",
       " 1.83929-0.0im\n",
       " 1.83929-0.0im\n",
       " 1.83929-0.0im\n",
       " 1.83929-0.0im\n",
       " 1.83929-0.0im\n",
       " 1.83929-0.0im\n",
       " 1.83929-0.0im\n",
       " 1.83929-0.0im\n",
       " 1.83929-0.0im\n",
       " 1.83929-0.0im\n",
       " 1.83929-0.0im\n",
       " 1.83929-0.0im\n",
       " 1.83929-0.0im\n",
       " 1.83929-0.0im"
      ]
     },
     "execution_count": 34,
     "metadata": {},
     "output_type": "execute_result"
    }
   ],
   "source": [
    "suc(3,20)"
   ]
  },
  {
   "cell_type": "code",
   "execution_count": 35,
   "metadata": {
    "collapsed": false
   },
   "outputs": [
    {
     "data": {
      "text/plain": [
       "20-element Array{Complex{Float32},1}:\n",
       " 1.86586-0.0im\n",
       " 1.83985-0.0im\n",
       " 1.83929-0.0im\n",
       " 1.83929-0.0im\n",
       " 1.83929-0.0im\n",
       " 1.83929-0.0im\n",
       " 1.83929-0.0im\n",
       " 1.83929-0.0im\n",
       " 1.83929-0.0im\n",
       " 1.83929-0.0im\n",
       " 1.83929-0.0im\n",
       " 1.83929-0.0im\n",
       " 1.83929-0.0im\n",
       " 1.83929-0.0im\n",
       " 1.83929-0.0im\n",
       " 1.83929-0.0im\n",
       " 1.83929-0.0im\n",
       " 1.83929-0.0im\n",
       " 1.83929-0.0im\n",
       " 1.83929-0.0im"
      ]
     },
     "execution_count": 35,
     "metadata": {},
     "output_type": "execute_result"
    }
   ],
   "source": [
    "suc(2.5,20)"
   ]
  },
  {
   "cell_type": "code",
   "execution_count": 36,
   "metadata": {
    "collapsed": false
   },
   "outputs": [
    {
     "data": {
      "text/plain": [
       "err (generic function with 1 method)"
      ]
     },
     "execution_count": 36,
     "metadata": {},
     "output_type": "execute_result"
    }
   ],
   "source": [
    "function err(a,n)#esta funcion nos listara los errores por lo cual en principio es muy parecida a suc\n",
    "        b=(1/3)*(1+(19-3*sqrt(33))^(1/3)+(19+3*sqrt(33))^(1/3))\n",
    "    f(x)=complex((x*x*x)-(x*x)-x-1)/complex((3*x*x)-(2*x)-1)\n",
    "    e(x)=complex(x-b)/b \n",
    "    c=a-f(a) \n",
    "    d=e(a) \n",
    "    list=zeros(Complex64,n) \n",
    "    for i in 1:n \n",
    "        c=c-f(c)\n",
    "        d=e(c)\n",
    "        list[i]=d #ahora guardamos los errores en ves de los valores de x\n",
    "        end\n",
    "    return list\n",
    "end"
   ]
  },
  {
   "cell_type": "code",
   "execution_count": 37,
   "metadata": {
    "collapsed": false
   },
   "outputs": [
    {
     "data": {
      "text/plain": [
       "20-element Array{Complex{Float32},1}:\n",
       "  0.00014014-0.0im\n",
       "  2.98234f-8-0.0im\n",
       " 1.44868f-15-0.0im\n",
       " 1.20723f-16-0.0im\n",
       " 1.20723f-16-0.0im\n",
       " 1.20723f-16-0.0im\n",
       " 1.20723f-16-0.0im\n",
       " 1.20723f-16-0.0im\n",
       " 1.20723f-16-0.0im\n",
       " 1.20723f-16-0.0im\n",
       " 1.20723f-16-0.0im\n",
       " 1.20723f-16-0.0im\n",
       " 1.20723f-16-0.0im\n",
       " 1.20723f-16-0.0im\n",
       " 1.20723f-16-0.0im\n",
       " 1.20723f-16-0.0im\n",
       " 1.20723f-16-0.0im\n",
       " 1.20723f-16-0.0im\n",
       " 1.20723f-16-0.0im\n",
       " 1.20723f-16-0.0im"
      ]
     },
     "execution_count": 37,
     "metadata": {},
     "output_type": "execute_result"
    }
   ],
   "source": [
    "err(2,20)"
   ]
  },
  {
   "cell_type": "code",
   "execution_count": 38,
   "metadata": {
    "collapsed": false
   },
   "outputs": [
    {
     "data": {
      "text/plain": [
       "20-element Array{Complex{Float32},1}:\n",
       "   0.0144485-0.0im\n",
       " 0.000307238-0.0im\n",
       "  1.43291f-7-0.0im\n",
       "  3.1388f-14-0.0im\n",
       " 1.20723f-16-0.0im\n",
       " 1.20723f-16-0.0im\n",
       " 1.20723f-16-0.0im\n",
       " 1.20723f-16-0.0im\n",
       " 1.20723f-16-0.0im\n",
       " 1.20723f-16-0.0im\n",
       " 1.20723f-16-0.0im\n",
       " 1.20723f-16-0.0im\n",
       " 1.20723f-16-0.0im\n",
       " 1.20723f-16-0.0im\n",
       " 1.20723f-16-0.0im\n",
       " 1.20723f-16-0.0im\n",
       " 1.20723f-16-0.0im\n",
       " 1.20723f-16-0.0im\n",
       " 1.20723f-16-0.0im\n",
       " 1.20723f-16-0.0im"
      ]
     },
     "execution_count": 38,
     "metadata": {},
     "output_type": "execute_result"
    }
   ],
   "source": [
    "err(2.5,20)"
   ]
  },
  {
   "cell_type": "code",
   "execution_count": 39,
   "metadata": {
    "collapsed": false
   },
   "outputs": [
    {
     "data": {
      "text/plain": [
       "20-element Array{Complex{Float32},1}:\n",
       "     0.06112-0.0im\n",
       "  0.00499488-0.0im\n",
       "  3.74817f-5-0.0im\n",
       "  2.13387f-9-0.0im\n",
       "         0.0-0.0im\n",
       " 1.20723f-16-0.0im\n",
       " 1.20723f-16-0.0im\n",
       " 1.20723f-16-0.0im\n",
       " 1.20723f-16-0.0im\n",
       " 1.20723f-16-0.0im\n",
       " 1.20723f-16-0.0im\n",
       " 1.20723f-16-0.0im\n",
       " 1.20723f-16-0.0im\n",
       " 1.20723f-16-0.0im\n",
       " 1.20723f-16-0.0im\n",
       " 1.20723f-16-0.0im\n",
       " 1.20723f-16-0.0im\n",
       " 1.20723f-16-0.0im\n",
       " 1.20723f-16-0.0im\n",
       " 1.20723f-16-0.0im"
      ]
     },
     "execution_count": 39,
     "metadata": {},
     "output_type": "execute_result"
    }
   ],
   "source": [
    "err(3,20)"
   ]
  },
  {
   "cell_type": "markdown",
   "metadata": {},
   "source": [
    "ahora solo graficamos para los valores que ya pusimos mas arriba:"
   ]
  },
  {
   "cell_type": "code",
   "execution_count": 44,
   "metadata": {
    "collapsed": false
   },
   "outputs": [
    {
     "name": "stderr",
     "output_type": "stream",
     "text": [
      "\u001b[1m\u001b[36mINFO: \u001b[39m\u001b[22m\u001b[36mPrecompiling module PyPlot.\n",
      "\u001b[39m"
     ]
    }
   ],
   "source": [
    "using PyPlot"
   ]
  },
  {
   "cell_type": "code",
   "execution_count": 50,
   "metadata": {
    "collapsed": true
   },
   "outputs": [],
   "source": [
    "#usaremos lo que ya hicimos:\n",
    "list1=suc(2,20);\n",
    "list2=suc(2.5,20);\n",
    "list3=suc(3,20);\n",
    "list4=suc(3.5,20);"
   ]
  },
  {
   "cell_type": "markdown",
   "metadata": {},
   "source": [
    "ahora solo vamos a graficar en una parte las sucesiones y en otra los errores:"
   ]
  },
  {
   "cell_type": "code",
   "execution_count": 47,
   "metadata": {
    "collapsed": false
   },
   "outputs": [
    {
     "data": {
      "image/png": "[encoded data removed]",
      "text/plain": [
       "PyPlot.Figure(PyObject <matplotlib.figure.Figure object at 0x7f5d1be417d0>)"
      ]
     },
     "metadata": {},
     "output_type": "display_data"
    }
   ],
   "source": [
    "title(\"primeras iteraciones del metodo de newton\")\n",
    "xlabel(\"numero de iteración\")\n",
    "ylabel(\"valor de iteración\")\n",
    "ylim(1.5,2.5)\n",
    "scatter(1:20,list1)\n",
    "scatter(1:20,list2)\n",
    "scatter(1:20,list3)\n",
    "scatter(1:20,list4)\n",
    "show();"
   ]
  },
  {
   "cell_type": "code",
   "execution_count": 51,
   "metadata": {
    "collapsed": true
   },
   "outputs": [],
   "source": [
    "list5=err(2,20);\n",
    "list6=err(2.5,20);\n",
    "list7=err(3,20);\n",
    "list8=err(3.5,20);"
   ]
  },
  {
   "cell_type": "code",
   "execution_count": 54,
   "metadata": {
    "collapsed": false
   },
   "outputs": [
    {
     "data": {
      "image/png": "[encoded data removed]",
      "text/plain": [
       "PyPlot.Figure(PyObject <matplotlib.figure.Figure object at 0x7f5d0d516ed0>)"
      ]
     },
     "metadata": {},
     "output_type": "display_data"
    }
   ],
   "source": [
    "title(\"primeros errores del metodo de newton\")\n",
    "xlabel(\"numero de iteración\")\n",
    "ylabel(\"valor de iteración\")\n",
    "ylim(-0.01,0.25)\n",
    "scatter(1:20,list5)\n",
    "scatter(1:20,list6)\n",
    "scatter(1:20,list7)\n",
    "scatter(1:20,list8)\n",
    "show();"
   ]
  },
  {
   "cell_type": "markdown",
   "metadata": {},
   "source": [
    "## método bisección"
   ]
  },
  {
   "cell_type": "markdown",
   "metadata": {},
   "source": [
    "ahora vamos a hacer lo mismo que antes pero para este método, por tanto usaremos una función"
   ]
  },
  {
   "cell_type": "code",
   "execution_count": 60,
   "metadata": {
    "collapsed": false
   },
   "outputs": [
    {
     "data": {
      "text/plain": [
       "biss (generic function with 1 method)"
      ]
     },
     "execution_count": 60,
     "metadata": {},
     "output_type": "execute_result"
    }
   ],
   "source": [
    "function biss(x,y,n)\n",
    "    m=(x+y)/2 #colocamos el punto medio inicial\n",
    "    f(x)=x*x*x-x*x-x-1 #definimos la función que usaremos\n",
    "    list=zeros(Complex64,n);#creamos una lista para poder despues guardar\n",
    "    for i in 1:n #con este for vamos a recortar el intervalo\n",
    "        if f(x)*f(m)>0 #pedimos que nos diga si hay cambio de signo por la derecha para poder hayar raices\n",
    "            x=m #en cuyo casi ahora buscamos en un subintervalo formado por el punto medio y y\n",
    "        end\n",
    "        if f(y)*f(m)>0 #pedimos ver cambio de signo igual que antes pero por la izquierda del punto medio\n",
    "            y=m #solo que ahora sera ente x y el punto medio\n",
    "        end\n",
    "        m=(x+y)/2 #asi en total ahora recortamos mas el intervalo \n",
    "        list[i]=m #finalmente como los puntos medios son los que nos aproximan, los guardamos\n",
    "    end\n",
    "    return list\n",
    "end\n",
    "    "
   ]
  },
  {
   "cell_type": "code",
   "execution_count": 61,
   "metadata": {
    "collapsed": false
   },
   "outputs": [
    {
     "data": {
      "text/plain": [
       "20-element Array{Complex{Float32},1}:\n",
       "    1.75+0.0im\n",
       "   1.875+0.0im\n",
       "  1.8125+0.0im\n",
       " 1.84375+0.0im\n",
       " 1.82813+0.0im\n",
       " 1.83594+0.0im\n",
       " 1.83984+0.0im\n",
       " 1.83789+0.0im\n",
       " 1.83887+0.0im\n",
       " 1.83936+0.0im\n",
       " 1.83911+0.0im\n",
       " 1.83923+0.0im\n",
       " 1.83929+0.0im\n",
       " 1.83926+0.0im\n",
       " 1.83928+0.0im\n",
       " 1.83929+0.0im\n",
       " 1.83928+0.0im\n",
       " 1.83928+0.0im\n",
       " 1.83929+0.0im\n",
       " 1.83929+0.0im"
      ]
     },
     "execution_count": 61,
     "metadata": {},
     "output_type": "execute_result"
    }
   ],
   "source": [
    "biss(1,2,20)"
   ]
  },
  {
   "cell_type": "code",
   "execution_count": 84,
   "metadata": {
    "collapsed": false
   },
   "outputs": [
    {
     "data": {
      "text/plain": [
       "20-element Array{Complex{Float32},1}:\n",
       "   1.725+0.0im\n",
       "  1.8125+0.0im\n",
       " 1.85625+0.0im\n",
       " 1.83438+0.0im\n",
       " 1.84531+0.0im\n",
       " 1.83984+0.0im\n",
       " 1.83711+0.0im\n",
       " 1.83848+0.0im\n",
       " 1.83916+0.0im\n",
       "  1.8395+0.0im\n",
       " 1.83933+0.0im\n",
       " 1.83925+0.0im\n",
       " 1.83929+0.0im\n",
       " 1.83927+0.0im\n",
       " 1.83928+0.0im\n",
       " 1.83928+0.0im\n",
       " 1.83929+0.0im\n",
       " 1.83929+0.0im\n",
       " 1.83929+0.0im\n",
       " 1.83929+0.0im"
      ]
     },
     "execution_count": 84,
     "metadata": {},
     "output_type": "execute_result"
    }
   ],
   "source": [
    "biss(1.2,1.9,20)"
   ]
  },
  {
   "cell_type": "code",
   "execution_count": 64,
   "metadata": {
    "collapsed": false
   },
   "outputs": [
    {
     "data": {
      "text/plain": [
       "20-element Array{Complex{Float32},1}:\n",
       "     1.8+0.0im\n",
       "    1.85+0.0im\n",
       "   1.825+0.0im\n",
       "  1.8375+0.0im\n",
       " 1.84375+0.0im\n",
       " 1.84063+0.0im\n",
       " 1.83906+0.0im\n",
       " 1.83984+0.0im\n",
       " 1.83945+0.0im\n",
       " 1.83926+0.0im\n",
       " 1.83936+0.0im\n",
       " 1.83931+0.0im\n",
       " 1.83928+0.0im\n",
       " 1.83929+0.0im\n",
       " 1.83929+0.0im\n",
       " 1.83929+0.0im\n",
       " 1.83929+0.0im\n",
       " 1.83929+0.0im\n",
       " 1.83929+0.0im\n",
       " 1.83929+0.0im"
      ]
     },
     "execution_count": 64,
     "metadata": {},
     "output_type": "execute_result"
    }
   ],
   "source": [
    "biss(1.5,1.9,20)"
   ]
  },
  {
   "cell_type": "markdown",
   "metadata": {},
   "source": [
    "de nuevo, vamos a crear una función analoga a \"biss\", pero esta nos regresara los errores"
   ]
  },
  {
   "cell_type": "code",
   "execution_count": 68,
   "metadata": {
    "collapsed": false
   },
   "outputs": [
    {
     "data": {
      "text/plain": [
       "errb (generic function with 1 method)"
      ]
     },
     "execution_count": 68,
     "metadata": {},
     "output_type": "execute_result"
    }
   ],
   "source": [
    "function errb(x,y,n)\n",
    "        m=(x+y)/2\n",
    "    l=(1/3)*(1+(19-3*sqrt(33))^(1/3)+(19+3*sqrt(33))^(1/3)) #añadimos el valor de la raíz exacta\n",
    "    f(x)=x*x*x-x*x-x-1\n",
    "    e(x)=f(x)/l #añadimos la funcion error\n",
    "    list=zeros(Complex64,n);\n",
    "    for i in 1:n \n",
    "        if f(x)*f(m)>0 \n",
    "            x=m \n",
    "        end\n",
    "        if f(y)*f(m)>0 \n",
    "            y=m\n",
    "        end\n",
    "        m=(x+y)/2 \n",
    "        list[i]=e(m) \n",
    "    end\n",
    "    return list\n",
    "end\n",
    "    "
   ]
  },
  {
   "cell_type": "code",
   "execution_count": 69,
   "metadata": {
    "collapsed": false
   },
   "outputs": [
    {
     "data": {
      "text/plain": [
       "20-element Array{Complex{Float32},1}:\n",
       "    -0.246359+0.0im\n",
       "     0.109375+0.0im\n",
       "   -0.0779164+0.0im\n",
       "    0.0133234+0.0im\n",
       "   -0.0328917+0.0im\n",
       "  -0.00993372+0.0im\n",
       "   0.00165736+0.0im\n",
       "  -0.00414754+0.0im\n",
       "  -0.00124743+0.0im\n",
       "  0.000204377+0.0im\n",
       " -0.000521675+0.0im\n",
       " -0.000158685+0.0im\n",
       "    2.2837f-5+0.0im\n",
       "  -6.79264f-5+0.0im\n",
       "  -2.25453f-5+0.0im\n",
       "    1.4569f-7+0.0im\n",
       "  -1.11998f-5+0.0im\n",
       "  -5.52708f-6+0.0im\n",
       "   -2.6907f-6+0.0im\n",
       "   -1.2725f-6+0.0im"
      ]
     },
     "execution_count": 69,
     "metadata": {},
     "output_type": "execute_result"
    }
   ],
   "source": [
    "errb(1,2,20)"
   ]
  },
  {
   "cell_type": "code",
   "execution_count": 83,
   "metadata": {
    "collapsed": false
   },
   "outputs": [
    {
     "data": {
      "text/plain": [
       "20-element Array{Complex{Float32},1}:\n",
       "    -0.308637+0.0im\n",
       "   -0.0779164+0.0im\n",
       "    0.0511611+0.0im\n",
       "   -0.0145492+0.0im\n",
       "    0.0180109+0.0im\n",
       "   0.00165736+0.0im\n",
       "  -0.00646426+0.0im\n",
       "  -0.00240804+0.0im\n",
       " -0.000376488+0.0im\n",
       "  0.000640149+0.0im\n",
       "  0.000131759+0.0im\n",
       " -0.000122382+0.0im\n",
       "   4.68392f-6+0.0im\n",
       "  -5.88503f-5+0.0im\n",
       "  -2.70835f-5+0.0im\n",
       "  -1.11998f-5+0.0im\n",
       "  -3.25798f-6+0.0im\n",
       "   7.12968f-7+0.0im\n",
       "   -1.2725f-6+0.0im\n",
       "  -2.79769f-7+0.0im"
      ]
     },
     "execution_count": 83,
     "metadata": {},
     "output_type": "execute_result"
    }
   ],
   "source": [
    "errb(1.2,1.9,20)"
   ]
  },
  {
   "cell_type": "code",
   "execution_count": 72,
   "metadata": {
    "collapsed": false
   },
   "outputs": [
    {
     "data": {
      "text/plain": [
       "20-element Array{Complex{Float32},1}:\n",
       "   -0.113087+0.0im\n",
       "   0.0321456+0.0im\n",
       "  -0.0419915+0.0im\n",
       " -0.00530628+0.0im\n",
       "   0.0133234+0.0im\n",
       "  0.00398457+0.0im\n",
       " -0.00066685+0.0im\n",
       "  0.00165736+0.0im\n",
       "  0.00049488+0.0im\n",
       " -8.60785f-5+0.0im\n",
       " 0.000204377+0.0im\n",
       "  5.91436f-5+0.0im\n",
       " -1.34689f-5+0.0im\n",
       "   2.2837f-5+0.0im\n",
       "  4.68392f-6+0.0im\n",
       " -4.39253f-6+0.0im\n",
       "   1.4569f-7+0.0im\n",
       " -2.12342f-6+0.0im\n",
       " -9.88866f-7+0.0im\n",
       " -4.21588f-7+0.0im"
      ]
     },
     "execution_count": 72,
     "metadata": {},
     "output_type": "execute_result"
    }
   ],
   "source": [
    "errb(1.5,1.9,20)"
   ]
  },
  {
   "cell_type": "code",
   "execution_count": 73,
   "metadata": {
    "collapsed": true
   },
   "outputs": [],
   "source": [
    "using PyPlot"
   ]
  },
  {
   "cell_type": "code",
   "execution_count": 80,
   "metadata": {
    "collapsed": true
   },
   "outputs": [],
   "source": [
    "list9=biss(1,2,20);\n",
    "list10=biss(1.2,1.9,20);\n",
    "list11=biss(1.5,1.9,20);"
   ]
  },
  {
   "cell_type": "code",
   "execution_count": 81,
   "metadata": {
    "collapsed": false
   },
   "outputs": [
    {
     "data": {
      "image/png": "[encoded data removed]",
      "text/plain": [
       "PyPlot.Figure(PyObject <matplotlib.figure.Figure object at 0x7f5d0d178cd0>)"
      ]
     },
     "metadata": {},
     "output_type": "display_data"
    }
   ],
   "source": [
    "title(\"primeras iteraciones del método de bisección\")\n",
    "xlabel(\"numero de itereación\")\n",
    "ylabel(\"valor de iteración\")\n",
    "ylim(1.5,2.5)\n",
    "scatter(1:20,list9)\n",
    "scatter(1:20,list10)\n",
    "scatter(1:20,list11)\n",
    "show();"
   ]
  },
  {
   "cell_type": "code",
   "execution_count": 85,
   "metadata": {
    "collapsed": true
   },
   "outputs": [],
   "source": [
    "list12=errb(1,2,20);\n",
    "list13=errb(1.2,1.9,20);\n",
    "list14=errb(1.5,1.9,20);"
   ]
  },
  {
   "cell_type": "code",
   "execution_count": 94,
   "metadata": {
    "collapsed": false
   },
   "outputs": [
    {
     "data": {
      "image/png": "[encoded data removed]",
      "text/plain": [
       "PyPlot.Figure(PyObject <matplotlib.figure.Figure object at 0x7f5d16eac750>)"
      ]
     },
     "metadata": {},
     "output_type": "display_data"
    }
   ],
   "source": [
    "title(\"error de primeras iteraciones del método de bisección\")\n",
    "xlabel(\"numero de itereación\")\n",
    "ylabel(\"valor de iteración\")\n",
    "ylim(-0.2,0.2)\n",
    "scatter(1:20,list12)\n",
    "scatter(1:20,list13)\n",
    "scatter(1:20,list14)\n",
    "show();"
   ]
  },
  {
   "cell_type": "markdown",
   "metadata": {},
   "source": [
    "# ejercicio2: método de newton en general"
   ]
  },
  {
   "cell_type": "code",
   "execution_count": 77,
   "metadata": {
    "collapsed": false
   },
   "outputs": [],
   "source": [
    "using SymPy"
   ]
  },
  {
   "cell_type": "markdown",
   "metadata": {},
   "source": [
    "como trabajaremos con la variable simbólica x, la escribimos y definimos como símbolo para observar como trabaja\n"
   ]
  },
  {
   "cell_type": "code",
   "execution_count": 104,
   "metadata": {
    "collapsed": false
   },
   "outputs": [
    {
     "data": {
      "text/latex": [
       "$$x$$"
      ],
      "text/plain": [
       "x"
      ]
     },
     "execution_count": 104,
     "metadata": {},
     "output_type": "execute_result"
    }
   ],
   "source": [
    "x=symbols(\"x\")"
   ]
  },
  {
   "cell_type": "code",
   "execution_count": 22,
   "metadata": {
    "collapsed": false
   },
   "outputs": [
    {
     "name": "stderr",
     "output_type": "stream",
     "text": [
      "\u001b[1m\u001b[33mWARNING: \u001b[39m\u001b[22m\u001b[33mreplacing docs for 'mng :: Tuple{Any,Any,Any}' in module 'Main'.\u001b[39m\n"
     ]
    },
    {
     "data": {
      "text/plain": [
       "mng"
      ]
     },
     "execution_count": 22,
     "metadata": {},
     "output_type": "execute_result"
    }
   ],
   "source": [
    "\"\"\"\n",
    "calcula la raíz a partir de un punto dado,\n",
    "defina la función y su derivada antes de meterlo en esta función, en el orden:\n",
    "(función,derivada,punto de referencia)\n",
    "\"\"\"\n",
    "function mng(f,df,a)\n",
    "    h(x)=f(x)/df(x) #definimos h para auxiliarnos, esta denota la funcion sobre la derivada\n",
    "    g(x)=x-h(x) #ahora ya ponemos la regla de iteración\n",
    "    b=g(a) #definimos la primer iteración\n",
    "    for i in 1:200 #usaremos 200 iteraciones para que sirva para varios ejercicios\n",
    "        b=g(b)\n",
    "    end\n",
    "    return b #pedimos que nos devuelva el valor aproximado de la raíz\n",
    "end\n",
    "    "
   ]
  },
  {
   "cell_type": "markdown",
   "metadata": {
    "collapsed": false
   },
   "source": [
    "f(x)=x^2-1;#realizamos una prueba\n",
    "df(x)=2*x;"
   ]
  },
  {
   "cell_type": "code",
   "execution_count": 5,
   "metadata": {
    "collapsed": false
   },
   "outputs": [
    {
     "data": {
      "text/plain": [
       "1.0"
      ]
     },
     "execution_count": 5,
     "metadata": {},
     "output_type": "execute_result"
    }
   ],
   "source": [
    "mng(f,df,2)"
   ]
  },
  {
   "cell_type": "markdown",
   "metadata": {
    "collapsed": false
   },
   "source": [
    "mng(f,df,-2)"
   ]
  },
  {
   "cell_type": "code",
   "execution_count": 19,
   "metadata": {
    "collapsed": false
   },
   "outputs": [
    {
     "data": {
      "text/plain": [
       "-2.0:0.10256410256410256:2.0"
      ]
     },
     "execution_count": 19,
     "metadata": {},
     "output_type": "execute_result"
    }
   ],
   "source": [
    "#ahora vamos a trabajar con elementos linspace:\n",
    "a=linspace(-2,2,40)"
   ]
  },
  {
   "cell_type": "code",
   "execution_count": 30,
   "metadata": {
    "collapsed": false
   },
   "outputs": [
    {
     "data": {
      "text/plain": [
       "40"
      ]
     },
     "execution_count": 30,
     "metadata": {},
     "output_type": "execute_result"
    }
   ],
   "source": [
    "length(a)#recordamos que lenght nos dice la cantidad de elementos en a"
   ]
  },
  {
   "cell_type": "code",
   "execution_count": 33,
   "metadata": {
    "collapsed": false
   },
   "outputs": [
    {
     "data": {
      "text/plain": [
       "2.0"
      ]
     },
     "execution_count": 33,
     "metadata": {},
     "output_type": "execute_result"
    }
   ],
   "source": [
    "a[40]#recordamos que al poner [i] nos dice el i-esimo elemento en a"
   ]
  },
  {
   "cell_type": "code",
   "execution_count": 27,
   "metadata": {
    "collapsed": false
   },
   "outputs": [
    {
     "data": {
      "text/plain": [
       "0-element Array{Any,1}"
      ]
     },
     "execution_count": 27,
     "metadata": {},
     "output_type": "execute_result"
    }
   ],
   "source": [
    "t=[]#declaramos nuestro vector que usaremos"
   ]
  },
  {
   "cell_type": "code",
   "execution_count": 39,
   "metadata": {
    "collapsed": false
   },
   "outputs": [
    {
     "name": "stderr",
     "output_type": "stream",
     "text": [
      "\u001b[1m\u001b[33mWARNING: \u001b[39m\u001b[22m\u001b[33mreplacing docs for 'mnglins :: Tuple{Any,Any,Any}' in module 'Main'.\u001b[39m\n"
     ]
    },
    {
     "data": {
      "text/plain": [
       "mnglins"
      ]
     },
     "execution_count": 39,
     "metadata": {},
     "output_type": "execute_result"
    }
   ],
   "source": [
    "\"\"\"\n",
    "esta función calcula raiz para un elemento linspace probando con cada elemento y devuelve la lista de lo que se obtuvo en cada elemento\n",
    "(función,derivada,linspace)\n",
    "\"\"\"\n",
    "function mnglins(f,df,a)#ahora vamos a crear nuestra nueva función que usa lispace\n",
    "    b=length(a)#b sera la cantidad de elementos de a\n",
    "    for i in 1:b #esto nos dira que va hacerlo para cada elemento\n",
    "       push!(t,mng(f,df,a[i]))#le pedimos que para cada elemento guarde su resultado en t en otras palabras, lo añada\n",
    "    end\n",
    "    return t#pedimos que nos regrese t\n",
    "end      \n",
    "        "
   ]
  },
  {
   "cell_type": "code",
   "execution_count": 40,
   "metadata": {
    "collapsed": false
   },
   "outputs": [],
   "source": [
    "f(x)=x^2-1;#realizamos una prueba\n",
    "df(x)=2*x;"
   ]
  },
  {
   "cell_type": "code",
   "execution_count": 71,
   "metadata": {
    "collapsed": false
   },
   "outputs": [
    {
     "data": {
      "text/plain": [
       "360-element Array{Any,1}:\n",
       " -1.0\n",
       " -1.0\n",
       " -1.0\n",
       " -1.0\n",
       " -1.0\n",
       " -1.0\n",
       " -1.0\n",
       " -1.0\n",
       " -1.0\n",
       " -1.0\n",
       " -1.0\n",
       " -1.0\n",
       " -1.0\n",
       "  ⋮  \n",
       "  1.0\n",
       "  1.0\n",
       "  1.0\n",
       "  1.0\n",
       "  1.0\n",
       "  1.0\n",
       "  1.0\n",
       "  1.0\n",
       "  1.0\n",
       "  1.0\n",
       "  1.0\n",
       "  1.0"
      ]
     },
     "execution_count": 71,
     "metadata": {},
     "output_type": "execute_result"
    }
   ],
   "source": [
    "mnglins(f,df,a)"
   ]
  },
  {
   "cell_type": "markdown",
   "metadata": {},
   "source": [
    "para ahora crear una función que solo muestre las raices diferentes, vamos antes a crear una función que nos revise una lista, para eso vamos a usar de nuevo un vector $s$ vacío:"
   ]
  },
  {
   "cell_type": "code",
   "execution_count": 66,
   "metadata": {
    "collapsed": false
   },
   "outputs": [
    {
     "data": {
      "text/plain": [
       "0-element Array{Any,1}"
      ]
     },
     "execution_count": 66,
     "metadata": {},
     "output_type": "execute_result"
    }
   ],
   "source": [
    "s=[]"
   ]
  },
  {
   "cell_type": "code",
   "execution_count": 67,
   "metadata": {
    "collapsed": false
   },
   "outputs": [
    {
     "ename": "LoadError",
     "evalue": "\u001b[91msyntax: incomplete: \"function\" at In[67]:4 requires end\u001b[39m",
     "output_type": "error",
     "traceback": [
      "\u001b[91msyntax: incomplete: \"function\" at In[67]:4 requires end\u001b[39m",
      ""
     ]
    }
   ],
   "source": [
    "#L es la lista a revisar\n",
    "#l es la longitud de L\n",
    "#d es la maxima tolerancia de separación entre dos raices\n",
    "function revisión(L,d)\n",
    "   l=length(L)\n",
    "      for i in 1:l#sobre todos los posibles raices\n",
    "        for j in 1:l\n",
    "        if abs(L[j]-L[i])>d#se fija si son diferentes en d\n",
    "            push!(s,L[i])#si ocurre los manda a s\n",
    "        end\n",
    "    end\n",
    "    return s #Regresa la lista con los valores aprobados\n",
    "end"
   ]
  },
  {
   "cell_type": "code",
   "execution_count": 63,
   "metadata": {
    "collapsed": false
   },
   "outputs": [
    {
     "data": {
      "text/plain": [
       "240-element Array{Any,1}:\n",
       " -1.0\n",
       " -1.0\n",
       " -1.0\n",
       " -1.0\n",
       " -1.0\n",
       " -1.0\n",
       " -1.0\n",
       " -1.0\n",
       " -1.0\n",
       " -1.0\n",
       " -1.0\n",
       " -1.0\n",
       " -1.0\n",
       "  ⋮  \n",
       "  1.0\n",
       "  1.0\n",
       "  1.0\n",
       "  1.0\n",
       "  1.0\n",
       "  1.0\n",
       "  1.0\n",
       "  1.0\n",
       "  1.0\n",
       "  1.0\n",
       "  1.0\n",
       "  1.0"
      ]
     },
     "execution_count": 63,
     "metadata": {},
     "output_type": "execute_result"
    }
   ],
   "source": [
    "#probamos con lo que ya tenemos:\n",
    "L=mnglins(f,df,a)"
   ]
  },
  {
   "cell_type": "code",
   "execution_count": 72,
   "metadata": {
    "collapsed": false
   },
   "outputs": [
    {
     "data": {
      "text/plain": [
       "302-element Array{Any,1}:\n",
       " -1.0\n",
       "  1.0\n",
       "  1.0\n",
       "  1.0\n",
       "  1.0\n",
       "  1.0\n",
       "  1.0\n",
       "  1.0\n",
       "  1.0\n",
       "  1.0\n",
       "  1.0\n",
       "  1.0\n",
       "  1.0\n",
       "  ⋮  \n",
       "  1.0\n",
       "  1.0\n",
       "  1.0\n",
       "  1.0\n",
       "  1.0\n",
       "  1.0\n",
       "  1.0\n",
       "  1.0\n",
       "  1.0\n",
       "  1.0\n",
       "  1.0\n",
       "  1.0"
      ]
     },
     "execution_count": 72,
     "metadata": {},
     "output_type": "execute_result"
    }
   ],
   "source": [
    "revisión(L,1)"
   ]
  },
  {
   "cell_type": "code",
   "execution_count": 86,
   "metadata": {
    "collapsed": false
   },
   "outputs": [
    {
     "name": "stderr",
     "output_type": "stream",
     "text": [
      "\u001b[1m\u001b[33mWARNING: \u001b[39m\u001b[22m\u001b[33mreplacing docs for 'mnf :: Tuple{Any,Any}' in module 'Main'.\u001b[39m\n"
     ]
    },
    {
     "data": {
      "text/plain": [
       "mnf"
      ]
     },
     "execution_count": 86,
     "metadata": {},
     "output_type": "execute_result"
    }
   ],
   "source": [
    "\"\"\"\n",
    "esta funcion trabaja con funciones y calcula la raíz por el metodo de newton tomando un valor inicial y devuelve la raiz despues de 200 iteraciones: (función,condición inicial) es necesario definir la función previamente\n",
    "\"\"\"\n",
    "function mnf(f,a)\n",
    "    x=symbols(\"x\")#definimos a x de manera simbólica\n",
    "    df=diff(f(x),x)#calcularmos su derivada usando la función diff\n",
    "    k=lambdify(df,[x]);#convertimos esta función a función de Julia\n",
    "    h(x)=f(x)/k(x)#a partir de aqui se repite el proceso ya usado en mng\n",
    "    g(x)=x-h(x)#iteración\n",
    "    r=g(a)#condición inicial\n",
    "    for i in 1:200#de nuevo ponemos 200 iteraciones\n",
    "       r=g(r) #iteración\n",
    "    end\n",
    "    return r#devuelve r\n",
    "end"
   ]
  },
  {
   "cell_type": "code",
   "execution_count": 94,
   "metadata": {
    "collapsed": false
   },
   "outputs": [
    {
     "data": {
      "text/plain": [
       "f (generic function with 1 method)"
      ]
     },
     "execution_count": 94,
     "metadata": {},
     "output_type": "execute_result"
    }
   ],
   "source": [
    "f(x)=x^3 + 2x^2#probamos que funcione, pues en este caso las raices son 0 y -2"
   ]
  },
  {
   "cell_type": "code",
   "execution_count": 95,
   "metadata": {
    "collapsed": false
   },
   "outputs": [
    {
     "data": {
      "text/plain": [
       "1.1400629849418625e-60"
      ]
     },
     "execution_count": 95,
     "metadata": {},
     "output_type": "execute_result"
    }
   ],
   "source": [
    "mnf(f,2)#se pega mucho al cero"
   ]
  },
  {
   "cell_type": "code",
   "execution_count": 96,
   "metadata": {
    "collapsed": false
   },
   "outputs": [
    {
     "data": {
      "text/plain": [
       "-2.0"
      ]
     },
     "execution_count": 96,
     "metadata": {},
     "output_type": "execute_result"
    }
   ],
   "source": [
    "mnf(f,-5)#vale exactamente la raíz"
   ]
  },
  {
   "cell_type": "code",
   "execution_count": 98,
   "metadata": {
    "collapsed": false
   },
   "outputs": [
    {
     "data": {
      "text/plain": [
       "f (generic function with 1 method)"
      ]
     },
     "execution_count": 98,
     "metadata": {},
     "output_type": "execute_result"
    }
   ],
   "source": [
    "f(x)=x*tan(x)-sqrt(10-x*x)#ahora probaremos para la función de la primer tarea, de antemano sabemos que debe dar algo cercano a 1.18"
   ]
  },
  {
   "cell_type": "code",
   "execution_count": 99,
   "metadata": {
    "collapsed": false
   },
   "outputs": [
    {
     "data": {
      "text/plain": [
       "1.1862608165029145"
      ]
     },
     "execution_count": 99,
     "metadata": {},
     "output_type": "execute_result"
    }
   ],
   "source": [
    "mnf(f,1.1)#nos da el valo que esperabamos"
   ]
  }
 ],
 "metadata": {
  "kernelspec": {
   "display_name": "Julia 0.6.0",
   "language": "julia",
   "name": "julia-0.6"
  },
  "language_info": {
   "file_extension": ".jl",
   "mimetype": "application/julia",
   "name": "julia",
   "version": "0.6.0"
  }
 },
 "nbformat": 4,
 "nbformat_minor": 2
}
