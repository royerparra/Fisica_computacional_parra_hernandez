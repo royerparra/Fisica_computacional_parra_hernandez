{
 "cells": [
  {
   "cell_type": "markdown",
   "metadata": {},
   "source": [
    "# Solución a la Ecuación de Calor Bidimensional"
   ]
  },
  {
   "cell_type": "markdown",
   "metadata": {},
   "source": [
    "## Con Condiciones de Dirichlet en Coordenadas Polares"
   ]
  },
  {
   "cell_type": "markdown",
   "metadata": {},
   "source": [
    "__Una breve introducción:__ La ecuación del calor es una importante ecuación diferencial en derivadas parciales que describe la variación y la evolución del calor (o de la temperatura) en una región a lo largo intervalo de tiempo.\n",
    "\n",
    "El matemático y físico francés Jean Baptiste Joseph Fourier (1768-1830) fue pionero en el estudio\n",
    "de la transferencia del calor en sólidos y fue quien dedujo la denominada Ecuación del Calor:\n",
    "\n",
    "$$\\displaystyle {k\\frac {\\partial u}{\\partial t}}-\\nabla ^{2}u=0$$\n",
    "\n",
    "En nuestro caso buscaremos una función que sea solución de la ecuación en una región polar del tipo $ 0\\leq r \\leq 10;0\\leq t  $. Para esto se usará las siguientes condiciones de frontera.\n",
    " $$u(a,\\theta,t)=T_0$$\n",
    " $$u(r, \\theta,0)=P(r,\\theta)$$ \n",
    " \n",
    "Donde $T_0$ es una contante, es decir es una temperatura fija, la idea es que la placa se calienta en medio y luego se deja enfriar, de manera que en el borde de la placa circular, la temperatura no cambia.\n",
    "\n",
    "__Planteamiento:__ para darle solución escogeremos previamente una malla en $(r,\\theta)$ y además vamos a tomar un intervalo de tiempo finito $[0,t_0]$\n",
    " \n",
    "Discreticemos $\\nabla^2$ en coordenadas polares, para ello recordemos lo siguiente:\n",
    " \n",
    "$$\\Delta f=\\nabla ^{2}f={\\partial ^{2}f \\over \\partial r ^{2}}+{1 \\over r }{\\partial f \\over \\partial r }+{1 \\over r ^{2}}{\\partial ^{2}f \\over \\partial \\theta ^{2}}$$\n",
    "\n",
    "Tomando las aproximaciones\n",
    "$$\\frac {\\partial f(r,\\theta,t)}{\\partial r} \\approx \\frac {f(r+h,\\theta,t)-f(r-h,\\theta,t)}{2h} $$\n",
    "$$\\frac {\\partial^2 f(r,\\theta,t)}{\\partial r^2} \\approx \\frac{f(r+h,\\theta,t)+f(r-h,\\theta,t)-2f(r,\\theta,t)}{h^2}$$\n",
    "$$\\frac {\\partial^2 f(r,\\theta,t)}{\\partial \\theta^2} \\approx \\frac{f(r,\\theta+h,t)+f(r,\\theta-h,t)-2f(r,\\theta,t)}{h^2}$$\n",
    "$$\\frac {\\partial f(r,\\theta,t)}{\\partial t} \\approx \\frac {f(r,\\theta,t+s)-f(r,\\theta,t-s)}{2s} $$"
   ]
  },
  {
   "cell_type": "markdown",
   "metadata": {},
   "source": [
    "Por lo que nuestro laplaciano es:\n",
    "$$\\nabla ^{2}f(r,\\theta,t)=\\frac{f(r+h,\\theta,t)+f(r-h,\\theta,t)-2f(r,\\theta,t)}{h^2} + \\frac {f(r+h,\\theta,t)-f(r-h,\\theta,t)}{2rh} + \\frac{f(r,\\theta+h,t)+f(r,\\theta-h,t)-2f(r,\\theta,t)}{r^2h^2}$$\n",
    "\n",
    "En nuestro caso además el operador diferencial por discretizar es $k\\frac{\\partial}{\\partial t} -\\nabla^2$, por lo cual queda discretizado por:\n",
    "\n",
    "$$k\\frac {f(r,\\theta,t+s)-f(r,\\theta,t-s)}{2s} - \\frac{f(r+h,\\theta,t)+f(r-h,\\theta,t)-2f(r,\\theta,t)}{h^2} + \\frac {f(r+h,\\theta,t)-f(r-h,\\theta,t)}{2rh} + \\frac{f(r,\\theta+h,t)+f(r,\\theta-h,t)-2f(r,\\theta,t)}{r^2h^2}$$"
   ]
  },
  {
   "cell_type": "markdown",
   "metadata": {},
   "source": [
    "Antes de crear el programa vamos a analizar la ruta que debemos seguir para aplicar diferencias finitas:\n",
    "\n",
    "Tomando una malla homogenea que dé el usuario através del parámetro $h_0$, el cual implementaremos con linspace\n",
    "\n",
    "reescribimos nuestra fórmula como :\n",
    "\n",
    "$$k\\frac{\\partial f_{ij}}{\\partial t} - \\frac{f_{i+1j}-2f_{ij}+f_{i-1j}}{h^2} + \\frac {f_{i+1j}-f_{i-1j}}{2rh} + \\frac{f_{ij+1}-2f_{ij}+f_{ij-1}}{r^2d^2}=0$$\n",
    "Donde d es el espaciamiento de la malla en $\\theta$ y $h$ en el radio.\n",
    "\n",
    "Ahora bien, considerando cada $f_{ij}$ se tiene que son funciones en tiempo por lo tanto la ecuaión anterior puede ser vista como un sistema de ecuaciones para las funciones $f_{ij}$, por tanto ahora podemos aplicar Euler o RungeKutta para obtener la solucion a cada $f_{ij}$ recordando que $f_{ij}$ representa la temperatura en el punto $(ih_r,jh_{\\theta})$ en polares, donde $h_r$ y $h_{\\theta}$ representan las anchuras en la malla que por comodidad tomaremos homogenea, aunque para graficar será necesario aclarar que tendrá que graficar los valores que de $f_{ij}$ en el punto $(ih_r\\cos(jh_{\\theta}),ih_r\\sin(jh_{\\theta}))$\n",
    "\n",
    "Por lo tanto nuestro problema se reduce a encontrar la función del sistema dinamico, es decir:\n",
    "$$\\frac {\\partial\\vec u }{ \\partial t}=F(\\vec u)$$\n",
    "\n",
    "Donde $\\vec u$ es el vector que tiene por entradas a las $f_{ij}$ despejando de la expresión anterior se tiene que:\n",
    "$$F(\\vec u) = \\frac {1}{k}\\left(\\frac{f_{i+1j}-2f_{ij}+f_{i-1j}}{h^2} + \\frac {f_{i+1j}-f_{i-1j}}{2rh} + \\frac{f_{ij+1}-2f_{ij}+f_{ij-1}}{r^2d^2}\\right)$$\n",
    "\n",
    "Ahora veremos las condiciones inicales y de frontera:\n",
    "en nuestro caso consideramos pues la malla en $r$ como sigue: $\\{h_r,2h_r,\\ldots,nh_r=10\\}$ y para $\\theta$ como: $\\{h_{\\theta},2h_{\\theta},\\ldots,mh_{\\theta}=2\\pi\\}$\n",
    "\n",
    "ahora con las condiciones de frontera tenemos que:\n",
    "$$f_{nj}(t)=T_0$$\n",
    "esto pues en la frontera se mantiene constante para todo valor del ángulo y tiempo siempre que estemos en el radio $10=nh_r$, pero no es la única condición, pues aunque ya están determinadas algunas \"$f$´s\" para aplicar euler recordemos que hace falta una condición inicial, la cual tenemos como sigue:\n",
    "\n",
    "$$f_{ij}(0)=P(ih_r,jh_{\\theta})\\ \\forall\\ i\\neq n$$\n",
    "es decir, las condiciones iniciales son la evaluación de la función $P$ en cada punto de la malla, de manera simplificada el las acciones a realizar son las siguientes:\n",
    "\n",
    "$a)$ se crea el programa que evalua $P$ sobre la malla y las señala como condición inicial y considera $f_{nj}$ constantes e iguales a $T_0$\n",
    "\n",
    "$b)$ ahora definimos la función $F$\n",
    "\n",
    "$c)$ finalmente aplicamos regla de recurrencia de euler considerando las condiciones seleccionadas en $a)$ y así nos devuelve pues una función $f(i,j,k)$ la cual nos devuelva la $k$-ésima iteración de la solución para $f_{ij}$\n",
    "\n",
    "$d)$ finalmente después de esto vamos a considerar el conjunto de gráficas en el plano (aplicando pcolormesh) con $k$ fija, la cual nos indicara la distribución de temperatura, la cual al juntar todas las gráficas nos dará una animación en el tiempo que nosotros demos.\n"
   ]
  },
  {
   "cell_type": "markdown",
   "metadata": {},
   "source": [
    "__Aplicación:__\n",
    "ahora procedemos pues a construir los pasos uno por uno en el programa:"
   ]
  },
  {
   "cell_type": "code",
   "execution_count": null,
   "metadata": {},
   "outputs": [],
   "source": [
    "doc\"\"\"\n",
    "esta función soluciona la ecuación de calor (resultando una animación) en la región  $ 0\\leq r \\leq 10;0\\leq t\\leqt_0$\n",
    "con las condicion de frontera e inicial:\n",
    " $$u(a,\\theta,t)=T_0$$\n",
    " $$u(r, \\theta,0)=P(r,\\theta)$$ \n",
    "donde $T_0$ es una constante,por favor introduzca la función $P$ verificando que $P(10,\\theta)=T_0$\n",
    "\"\"\"\n",
    "function calor(P(r,q))\n",
    "    "
   ]
  },
  {
   "cell_type": "code",
   "execution_count": null,
   "metadata": {},
   "outputs": [],
   "source": []
  },
  {
   "cell_type": "code",
   "execution_count": null,
   "metadata": {},
   "outputs": [],
   "source": []
  },
  {
   "cell_type": "markdown",
   "metadata": {},
   "source": [
    "Referencias.\n",
    "\n",
    "[1] http://mmc.geofisica.unam.mx/acl/EDP/F_M/FDM/Introducci%C3%B3n%20al%20M%C3%A9todo%20de%20Diferencias%20Finitas%20y%20su%20Implementaci%C3%B3n%20Computacional.pdf, 21/11/2017,9:19 am"
   ]
  },
  {
   "cell_type": "code",
   "execution_count": null,
   "metadata": {},
   "outputs": [],
   "source": []
  }
 ],
 "metadata": {
  "kernelspec": {
   "display_name": "Julia 0.5.2",
   "language": "julia",
   "name": "julia-0.5"
  },
  "language_info": {
   "file_extension": ".jl",
   "mimetype": "application/julia",
   "name": "julia",
   "version": "0.5.2"
  }
 },
 "nbformat": 4,
 "nbformat_minor": 2
}
