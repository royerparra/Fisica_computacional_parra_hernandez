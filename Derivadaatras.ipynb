{
 "cells": [
  {
   "cell_type": "markdown",
   "metadata": {},
   "source": [
    "# Tarea 10"
   ]
  },
  {
   "cell_type": "markdown",
   "metadata": {},
   "source": [
    "ahora lo que procedemos a hacer es utilizar la derivación simétrica:"
   ]
  },
  {
   "cell_type": "code",
   "execution_count": 1,
   "metadata": {
    "collapsed": true
   },
   "outputs": [],
   "source": [
    "using SymPy #comenzaremos usando simbolos"
   ]
  },
  {
   "cell_type": "markdown",
   "metadata": {},
   "source": [
    "Para la derivada hacia adelante usabamos cálculo de coeficientes de taylor a nuestra función $log(1+x)$ es importante recordar que por lo visto en la tarea anterior, esta última función se ha de sustituir por $arcsenh(x)$, buscando en la red hallamos que en SymPy se escribe \"asenh(x)\", ahora implementamos el código usado por el profesor, solo que sustituyendo $log(1+x)\\rightarrow asinh(x);\\ f(x+h)-f(x)\\rightarrow f(x+h)-f(x-h)$:"
   ]
  },
  {
   "cell_type": "code",
   "execution_count": 6,
   "metadata": {
    "collapsed": true
   },
   "outputs": [],
   "source": [
    "function coeff_Taylor_sim(i)#implementamos las  rutinas cambiando lo señalado\n",
    "x=Sym(\"x\");\n",
    "h=Sym(\"h\");\n",
    "N(subs(diff(asinh(x),x,i)/factorial(Float64(i)),x=>0))\n",
    "end;\n",
    "\n",
    "function coeff_Taylor_sim_rational(i)\n",
    "    x=Sym(\"x\");\n",
    "    h=Sym(\"h\");\n",
    "    subs(diff(asinh(x),x,i)/factorial(i),x=>0)\n",
    "end;\n",
    "\n",
    "function finite_difference_sim(f)\n",
    "    return (x,h)->f(x+h,h)-f(x-h,h)\n",
    "end;"
   ]
  },
  {
   "cell_type": "code",
   "execution_count": 17,
   "metadata": {
    "collapsed": false
   },
   "outputs": [
    {
     "data": {
      "text/plain": [
       "p"
      ]
     },
     "execution_count": 17,
     "metadata": {},
     "output_type": "execute_result"
    }
   ],
   "source": [
    "p=SymFunction(\"p\")#hacemos una función simbólica"
   ]
  },
  {
   "cell_type": "code",
   "execution_count": 18,
   "metadata": {
    "collapsed": false
   },
   "outputs": [
    {
     "data": {
      "text/plain": [
       "q (generic function with 1 method)"
      ]
     },
     "execution_count": 18,
     "metadata": {},
     "output_type": "execute_result"
    }
   ],
   "source": [
    "q(x,h)=p(x)#hacemos una función que ahora dependa de x y h"
   ]
  },
  {
   "cell_type": "code",
   "execution_count": 19,
   "metadata": {
    "collapsed": false
   },
   "outputs": [],
   "source": [
    "P=finite_difference_sim(q);#definimos P como la diferencia finita"
   ]
  },
  {
   "cell_type": "code",
   "execution_count": 20,
   "metadata": {
    "collapsed": false
   },
   "outputs": [
    {
     "data": {
      "text/latex": [
       "$$- p{\\left (- h + x \\right )} + p{\\left (h + x \\right )}$$"
      ],
      "text/plain": [
       "-p(-h + x) + p(h + x)"
      ]
     },
     "execution_count": 20,
     "metadata": {},
     "output_type": "execute_result"
    }
   ],
   "source": [
    "P(Sym(\"x\"),Sym(\"h\"))#ahora solo hacemos que se vuelva una expresión simbólica"
   ]
  },
  {
   "cell_type": "markdown",
   "metadata": {
    "collapsed": true
   },
   "source": [
    "Con esto obtuvimos de manera correcta el operador de diferencia finita simétrica. Ahora haciendo la segunda aplicación de `finite_difference_symmetric`:"
   ]
  },
  {
   "cell_type": "code",
   "execution_count": 21,
   "metadata": {
    "collapsed": false
   },
   "outputs": [
    {
     "data": {
      "text/latex": [
       "$$- 2 p{\\left (x \\right )} + p{\\left (- 2 h + x \\right )} + p{\\left (2 h + x \\right )}$$"
      ],
      "text/plain": [
       "-2*p(x) + p(-2*h + x) + p(2*h + x)"
      ]
     },
     "execution_count": 21,
     "metadata": {},
     "output_type": "execute_result"
    }
   ],
   "source": [
    "P=finite_difference_sim(P);\n",
    "P(Sym(\"x\"),Sym(\"h\"))"
   ]
  },
  {
   "cell_type": "markdown",
   "metadata": {
    "collapsed": true
   },
   "source": [
    "ahora procedemos a llevar a orden superior, pero antes recordemos:\n",
    "$$\\:\\left.\\frac{d}{d\\xi}\\right|_{\\substack{\\xi=x}}=\\frac{1}{2h}\\sum_{n=0}^{\\infty}\\frac{(-1)^{n}(2n)!}{4^{2n}(n!)^{2}(2n+1)}\\delta_{h}^{\\:2n+1}=\\frac{1}{2h}\\left(\\delta_{h}-\\frac{1}{24}\\delta_{h}^{\\:2}+\\cdots\\right)\\ \\ldots\\ $$\n",
    "Damos dos expresiones para dicha derivación debido a que tenemos dos funciones para los coeficientes de Taylor:"
   ]
  },
  {
   "cell_type": "code",
   "execution_count": 24,
   "metadata": {
    "collapsed": false
   },
   "outputs": [
    {
     "name": "stderr",
     "output_type": "stream",
     "text": [
      "\u001b[1m\u001b[33mWARNING: \u001b[39m\u001b[22m\u001b[33mreplacing docs for 'Diff_order :: NTuple{4,Any}' in module 'Main'.\u001b[39m\n"
     ]
    },
    {
     "data": {
      "text/plain": [
       "Diff_order"
      ]
     },
     "execution_count": 24,
     "metadata": {},
     "output_type": "execute_result"
    }
   ],
   "source": [
    "doc\"\"\"\n",
    "esta función devuelve la derivada numérica simétrica como float de Julia usando coeficientes de taylor tipo float\n",
    "introduzca (función,punto de aproximación,h,orden de aproximación)\n",
    "\"\"\"\n",
    "function Diff_order(f,x,h,o)\n",
    "    g(x,h)=f(x)#hacemos dependencia en x y h\n",
    "    d=0#iniciamos nuestra suma en cero\n",
    "    for i in range(1,o)#con este for sumaremos terminos a der\n",
    "        g=finite_difference_sim(g)\n",
    "        d+=coeff_Taylor_sim(i)*g(x,h)/2^i\n",
    "    end\n",
    "    d/h\n",
    "end"
   ]
  },
  {
   "cell_type": "code",
   "execution_count": 33,
   "metadata": {
    "collapsed": false
   },
   "outputs": [
    {
     "name": "stderr",
     "output_type": "stream",
     "text": [
      "\u001b[1m\u001b[33mWARNING: \u001b[39m\u001b[22m\u001b[33mreplacing docs for 'Diff_order_rationalcoefficients :: NTuple{4,Any}' in module 'Main'.\u001b[39m\n"
     ]
    },
    {
     "data": {
      "text/plain": [
       "Diff_order_rationalcoefficients"
      ]
     },
     "execution_count": 33,
     "metadata": {},
     "output_type": "execute_result"
    }
   ],
   "source": [
    "\"\"\"\n",
    "esta función calcula la derivada simétrica como expresión de SymPy usando coeficientes de taylor racionales\n",
    "introduzca (función,punto de aproximación,h,orden de aproximación)\n",
    "\"\"\"\n",
    "function Diff_order_rationalcoefficients(f,x,h,o)\n",
    "    g(x,h)=f(x)\n",
    "    d=0\n",
    "    for i in range(1,o)\n",
    "        g=finite_difference_sim(g)\n",
    "        d+=coeff_Taylor_sim_rational(i)*g(x,h)/2^i\n",
    "    end\n",
    "    d/h\n",
    "end"
   ]
  },
  {
   "cell_type": "markdown",
   "metadata": {
    "collapsed": true
   },
   "source": [
    "__PRUEBA__:ahora procedemos a usar nuestra función"
   ]
  },
  {
   "cell_type": "code",
   "execution_count": 34,
   "metadata": {
    "collapsed": false
   },
   "outputs": [
    {
     "data": {
      "text/plain": [
       "-0.8390715290763999"
      ]
     },
     "execution_count": 34,
     "metadata": {},
     "output_type": "execute_result"
    }
   ],
   "source": [
    "Diff_order(sin,10.0,0.01,6)#Aplicamos para la función sen(x) en el punto 10 con un incremento 0.01 y un orden 6"
   ]
  },
  {
   "cell_type": "code",
   "execution_count": 35,
   "metadata": {
    "collapsed": false
   },
   "outputs": [
    {
     "data": {
      "text/plain": [
       "-0.8390715290764524"
      ]
     },
     "execution_count": 35,
     "metadata": {},
     "output_type": "execute_result"
    }
   ],
   "source": [
    "cos(10.0)#sabemos que la derivada de sen por eso evaluamos para comparar"
   ]
  },
  {
   "cell_type": "markdown",
   "metadata": {
    "collapsed": true
   },
   "source": [
    "para conocer como escala el error para comparar con la derivada hacia adelante usamos la función que arroja expresiones en SymPy"
   ]
  },
  {
   "cell_type": "code",
   "execution_count": 36,
   "metadata": {
    "collapsed": false
   },
   "outputs": [
    {
     "data": {
      "text/latex": [
       "$$\\frac{1}{h} \\left(- \\frac{3}{1280} f{\\left (- 5 h + x \\right )} + \\frac{25}{768} f{\\left (- 3 h + x \\right )} - \\frac{75}{128} f{\\left (- h + x \\right )} + \\frac{75}{128} f{\\left (h + x \\right )} - \\frac{25}{768} f{\\left (3 h + x \\right )} + \\frac{3}{1280} f{\\left (5 h + x \\right )}\\right)$$"
      ],
      "text/plain": [
       "  3*f(-5*h + x)   25*f(-3*h + x)   75*f(-h + x)   75*f(h + x)   25*f(3*h + x) \n",
       "- ------------- + -------------- - ------------ + ----------- - ------------- \n",
       "       1280            768             128            128            768      \n",
       "------------------------------------------------------------------------------\n",
       "                                             h                                \n",
       "\n",
       "  3*f(5*h + x)\n",
       "+ ------------\n",
       "      1280    \n",
       "--------------\n",
       "              "
      ]
     },
     "execution_count": 36,
     "metadata": {},
     "output_type": "execute_result"
    }
   ],
   "source": [
    "#Expresión de la derivada para un orden 5\n",
    "A=Diff_order_rationalcoefficients(SymFunction(\"f\"),Sym(\"x\"),Sym(\"h\"),6)"
   ]
  },
  {
   "cell_type": "code",
   "execution_count": 38,
   "metadata": {
    "collapsed": false
   },
   "outputs": [
    {
     "data": {
      "text/latex": [
       "$$\\left. \\frac{d}{d \\xi_{1}} f{\\left (\\xi_{1} \\right )} \\right|_{\\substack{ \\xi_{1}=x }} + \\frac{5 h^{6}}{112} \\left. \\frac{d^{7}}{d \\xi_{1}^{7}}  f{\\left (\\xi_{1} \\right )} \\right|_{\\substack{ \\xi_{1}=x }} + \\frac{25 h^{8}}{1152} \\left. \\frac{d^{9}}{d \\xi_{1}^{9}}  f{\\left (\\xi_{1} \\right )} \\right|_{\\substack{ \\xi_{1}=x }} + \\mathcal{O}\\left(h^{9}\\right)$$"
      ],
      "text/plain": [
       "                               /   7           \\|               /   9         \n",
       "                             6 |  d            ||             8 |  d          \n",
       "                          5*h *|------(f(xi_1))||         25*h *|------(f(xi_1\n",
       "                               |     7         ||               |     9       \n",
       "/  d           \\|              \\dxi_1          /|xi_1=x         \\dxi_1        \n",
       "|-----(f(xi_1))||       + ----------------------------- + --------------------\n",
       "\\dxi_1         /|xi_1=x                112                             1152   \n",
       "\n",
       "  \\|              \n",
       "  ||              \n",
       "))||              \n",
       "  ||              \n",
       "  /|xi_1=x    / 9\\\n",
       "---------- + O\\h /\n",
       "                  "
      ]
     },
     "execution_count": 38,
     "metadata": {},
     "output_type": "execute_result"
    }
   ],
   "source": [
    "series(A,Sym(\"h\"),0,9)#Expandimos en serie de Taylor:"
   ]
  },
  {
   "cell_type": "markdown",
   "metadata": {},
   "source": [
    "Para la derivada simétrica de orden 5 se tiene que el error escala como $h^{8}$. Se mejoró la aproximación respecto a la derivada hacia adelante propuesta en clase."
   ]
  }
 ],
 "metadata": {
  "kernelspec": {
   "display_name": "Julia 0.6.0",
   "language": "julia",
   "name": "julia-0.6"
  },
  "language_info": {
   "file_extension": ".jl",
   "mimetype": "application/julia",
   "name": "julia",
   "version": "0.6.0"
  }
 },
 "nbformat": 4,
 "nbformat_minor": 2
}
