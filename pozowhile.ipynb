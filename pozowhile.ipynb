{
 "cells": [
  {
   "cell_type": "code",
   "execution_count": 1,
   "metadata": {
    "collapsed": false
   },
   "outputs": [
    {
     "data": {
      "text/plain": [
       "pf"
      ]
     },
     "execution_count": 1,
     "metadata": {},
     "output_type": "execute_result"
    }
   ],
   "source": [
    "\"\"\"\n",
    "Funcion que calcula las energias propias de un pozo finito cuadrado usando el método de Newton resolviendo la ecuación trascendental ``(`` ``f(x)=x\\\\tan(x)-\\\\sqrt{A-x^2}=0`` ``)``, la función puede  definirse en tres entradas ``(`` ``a,b,e`` ``)``, la primera sirve para comenzar la iteración, la segunda es la constante de la ecuación y la tercera para definir un valor de error aceptable el cual en caso de no definirse queda como 0.5 por defaul.\n",
    "\"\"\"\n",
    "function pf(a,b,e=0.5)\n",
    "    f(x)=x*tan(x)-sqrt(complex(b-x*x))\n",
    "    z=a-f(a)/tan(a)+a*sec(a)+a/sqrt(complex(b-a*a))\n",
    "    G=abs(f(z))\n",
    "    while(e<G)\n",
    "        z=z-f(z)/(tan(z)+z*sec(z)*sec(z)+z/sqrt(b-z*z))\n",
    "        G=abs(f(z))\n",
    "    end\n",
    "    return z,f(z)\n",
    "end"
   ]
  },
  {
   "cell_type": "code",
   "execution_count": 2,
   "metadata": {
    "collapsed": false
   },
   "outputs": [
    {
     "ename": "LoadError",
     "evalue": "DomainError:",
     "output_type": "error",
     "traceback": [
      "DomainError:",
      "",
      "Stacktrace:",
      " [1] \u001b[1mnan_dom_err\u001b[22m\u001b[22m at \u001b[1m./math.jl:300\u001b[22m\u001b[22m [inlined]",
      " [2] \u001b[1mtan\u001b[22m\u001b[22m at \u001b[1m./math.jl:419\u001b[22m\u001b[22m [inlined]",
      " [3] \u001b[1mtanh\u001b[22m\u001b[22m\u001b[1m(\u001b[22m\u001b[22m::Complex{Float64}\u001b[1m)\u001b[22m\u001b[22m at \u001b[1m./complex.jl:790\u001b[22m\u001b[22m",
      " [4] \u001b[1mtan\u001b[22m\u001b[22m\u001b[1m(\u001b[22m\u001b[22m::Complex{Float64}\u001b[1m)\u001b[22m\u001b[22m at \u001b[1m./complex.jl:725\u001b[22m\u001b[22m",
      " [5] \u001b[1m(::#f#1{Int64})\u001b[22m\u001b[22m\u001b[1m(\u001b[22m\u001b[22m::Complex{Float64}\u001b[1m)\u001b[22m\u001b[22m at \u001b[1m./In[1]:5\u001b[22m\u001b[22m",
      " [6] \u001b[1mpf\u001b[22m\u001b[22m\u001b[1m(\u001b[22m\u001b[22m::Int64, ::Int64, ::Float64\u001b[1m)\u001b[22m\u001b[22m at \u001b[1m./In[1]:7\u001b[22m\u001b[22m"
     ]
    }
   ],
   "source": [
    "pf(0,2,0.0005)"
   ]
  },
  {
   "cell_type": "code",
   "execution_count": 3,
   "metadata": {
    "collapsed": false
   },
   "outputs": [
    {
     "data": {
      "text/plain": [
       "(-0.6375885564046435 - 0.10400032646390558im, -0.3340530275242132 + 0.2622980477206989im)"
      ]
     },
     "execution_count": 3,
     "metadata": {},
     "output_type": "execute_result"
    }
   ],
   "source": [
    "pf(10,1,0.5)"
   ]
  },
  {
   "cell_type": "code",
   "execution_count": null,
   "metadata": {
    "collapsed": true
   },
   "outputs": [],
   "source": []
  }
 ],
 "metadata": {
  "kernelspec": {
   "display_name": "Julia 0.6.0",
   "language": "julia",
   "name": "julia-0.6"
  },
  "language_info": {
   "file_extension": ".jl",
   "mimetype": "application/julia",
   "name": "julia",
   "version": "0.6.0"
  }
 },
 "nbformat": 4,
 "nbformat_minor": 2
}
