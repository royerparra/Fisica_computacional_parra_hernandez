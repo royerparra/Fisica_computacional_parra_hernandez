{
 "cells": [
  {
   "cell_type": "markdown",
   "metadata": {},
   "source": [
    "# Ecuaciones diferenciales parciales"
   ]
  },
  {
   "cell_type": "markdown",
   "metadata": {},
   "source": [
    "__Ejercicio1__: Escriba la forma del operador laplaciano utilizando diferencias finitas simétricas."
   ]
  },
  {
   "cell_type": "markdown",
   "metadata": {},
   "source": [
    "__Solución:__ en primera instancia analizemos las derivadas parciales, para ello recordemos su definición donde tomamos $f(\\vec x)=f(x^\\mu e_{\\mu})$:\n",
    "\n",
    "$\\partial_{\\mu}f=\\lim\\limits_{h \\rightarrow 0} \\frac{f(x^{\\nu}e_{\\nu}+he_{\\mu})-f(x^\\nu e_{\\nu})}{h}$\n",
    "\n",
    "ahora hacemos el analogo para la derivada simétrica pero con parciales, por tanto obtenemos que:\n",
    "$$(\\Delta_{\\mu})_hf=\\frac{f(x^{\\nu}e_{\\nu}+he_{\\mu})-f(x^{\\nu}e_{\\nu}-he_{\\mu})}{2h}$$\n",
    "recordemos ahora que el laplaciano viene dado por $\\nabla^2=\\partial_{\\mu} \\partial_{\\mu}=\\partial^2_{\\mu \\mu}$ de tal manera que nos queda al aplicar $(\\Delta_{\\mu})_h\\circ(\\Delta_{\\mu})_h=(\\Delta^2_{\\mu})_h$\n",
    "$$\\partial^2_{\\mu}f\\approx(\\Delta^2_{\\mu})_hf=\\frac{f(x^{\\nu}e_{\\nu}+he_{\\mu})+f(x^{\\nu}e_{\\nu}-he_{\\mu})-2f(x^{\\nu}e_{\\nu})}{h²}$$\n",
    "de esta manera podemos obtener facilmente la discretización por diferencias simétricas del laplaciano $\\nabla^2$\n",
    "$$\\nabla^2f\\approx (\\Delta^2)_hf= \\frac{f(\\vec{x}+he_1)+f(\\vec{x}-he_1)-2f(\\vec{x})}{h²}+\\frac{f(\\vec{x}+he_2)+f(\\vec{x}-he_2)-2f(\\vec{x})}{h²}+\\frac{f(\\vec{x}+he_3)+f(\\vec{x}-he_3)-2f(\\vec{x})}{h²}\n",
    "=\\frac{f(\\vec{x}+he_1)+f(\\vec{x}-he_1)+f(\\vec{x}+he_2)+f(\\vec{x}-he_2)+f(\\vec{x}+he_3)+f(\\vec{x}-he_3)-6f(\\vec{x})}{h²}$$\n",
    "donde $e_1=(1,0,0),e_2=(0,1,0),e_3=(0,0,1)$"
   ]
  },
  {
   "cell_type": "markdown",
   "metadata": {},
   "source": [
    "__Ejercicio 2 (condiciones a la frontera de Dirichlet)__. Discretice la ecuación \n",
    "$$ \\frac{d^2f}{dx^2}, $$\n",
    "en el intervalo $[0,1]$, y aplicando el operador laplaciano discretizado obtenga el sistema de ecuaciones algebraicas lineales correspondientes al problema de _Dirichlet_:\n",
    "$f(0) = a$ y $f(1) = b$ dividiendo el intervalo $[0,1]$ en $5$ puntos separados por $h$."
   ]
  },
  {
   "cell_type": "markdown",
   "metadata": {},
   "source": [
    "__Solución:__ para nuestro caso tomamos h=1/4, entonces los puntos son $\\{0,1/4,1/2,3/4,1\\}$ , entonces aplicando que $f(0)=a$ y $f(1)=b$ entonces solamente ocupamos que $[(\\Delta^2)_{1/5}f](0,1/4,1/2,3/4,1)=0$ y usamos la fórmula $(\\Delta^2)_hf(a)=\\frac{f(a+h)+f(a-h)-2f(a)}{h²}$, aplicando lo anterior se tiene el sistema de ecuaciones:\n",
    "$$\\begin{cases}\n",
    "f(1/4)+f(-1/4)-2a=0\n",
    "\\\\f(1/2)+a-2f(1/4)=0\n",
    "\\\\f(3/4)+f(1/4)-2f(1/2)=0\n",
    "\\\\b+f(1/2)-2f(3/4)=0\n",
    "\\\\f(5/4)+f(3/4)-2b=0\n",
    "\\end{cases}$$\n"
   ]
  },
  {
   "cell_type": "markdown",
   "metadata": {},
   "source": [
    "__Ejercicio 3 (condiciones a la frontera de Neumann)__. Hacer lo mismo para condiciones de _Neumann_, es decir, fijando en los extremos el valor de la primera derivada de la función. Para esto utilice la derivada _hacia adeltante_ en las orillas, es decir, si $f'(0)=a$ y $f'(1)=b$, entonces $(f_1-f_0)/h=a$, etc. No olvide que debe resultar un sistema de ecuación cuya dimensión sea el número de incognitas."
   ]
  },
  {
   "cell_type": "markdown",
   "metadata": {},
   "source": [
    "__Solución:__ ahora aplicamos exactamente lo mismo, de manera que las ecuaciones para los puntos interiores siguen siendo las mismas, lo único que se altera son la primera y última ecuación, en esta aplicamos que $f'(0)=a\\approx \\frac{f(1/4)-f(0)}{1/4}$ y que $f'(1)=b\\approx \\frac{f(5/4)-f(1)}{1/4}$, de manera que ahora el sistema de ecuaciones es:\n",
    "$$\\begin{cases}\n",
    "f(1/4)-f(0)-4a=0\n",
    "\\\\f(1/2)+a-2f(1/4)=0\n",
    "\\\\f(3/4)+f(1/4)-2f(1/2)=0\n",
    "\\\\b+f(1/2)-2f(3/4)=0\n",
    "\\\\f(5/4)-f(1)-4b=0\n",
    "\\end{cases}$$"
   ]
  },
  {
   "cell_type": "markdown",
   "metadata": {},
   "source": [
    "__Ejercicio 4 (indexación)__. `Julia` es más eficiente\n",
    "si se utiliza un único índice para acceder a los elementos\n",
    "de una matriz, además que puede simplificar algunos problemas. Escribe una función $\\phi$ que traduzca un par de\n",
    "índices $i,j$ a un único índice $k$, es decir:\n",
    "$$\\phi: (i,j) \\mapsto k.$$\n",
    "También encuentren $\\phi^{-1}$. Note que $\\phi$ deberá depender de las dimensiones del arreglo, por lo menos de una de ellas."
   ]
  },
  {
   "cell_type": "markdown",
   "metadata": {},
   "source": [
    "__solución:__ analicemos un poco sobre las matrices $\\mathbb{R}^{nxm}\\simeq \\mathbb{R}^{nm}$, de esta manera vamos a definir lo siguiente:\n",
    "\n",
    "sea $\\phi:\\mathbb{R}^{nxm}\\rightarrow \\mathbb{R}^{nm}$ definida como $\\phi(a_{ij})=a_{(i-1)m+j}$ \n",
    "note como evidentemente esta función $\\phi$ es lineal. además analicemos que como $1\\leq i\\leq n$ y $1\\leq j\\leq m$\n",
    "entonces $0\\leq i-1\\leq n-1$ entonces $1\\leq m(i-1)+j\\leq m+m(n-1)=mn$ es decir si coincide con que $\\phi(a_{ij})$ es un vector en $\\mathbb{R}^{nm}$ ahora notemos que como $\\delta _{ij}$ es base de las matrices, se puede ver que :\n",
    "$$\\phi(\\delta_{ij})=e_{(i-1)m+j}$$\n",
    "notemos como lo que aparece en el lado derecho es un elemento de la base de $\\mathbb{R}^{nm}$, de manera que $\\phi$ es isomorfismo, luego entonces definimos la inversa como sigue: si $\\vec v\\in\\mathbb{R}^{nm}$ y $\\vec{v}=\\sum_{i=1}^{n}\\sum_{j=1}^{m}a_{(i-1)m+j}e_{(i-1)m+j}$\n",
    "definimos $\\psi=\\phi^{-1}:\\mathbb{R}^{nm}\\rightarrow\\mathbb{R}^{nxm}$ como la única función lineal que hace que $\\psi(e_{(i-1)m+j})=\\delta_{ij}$ esto por la propiedad universal de las bases, aunque si queremos la expresión explícita no es muy complicado, de hecho con lo anterior es facil ver que:\n",
    "$$\\phi^{-1}\\left(\\vec v\\right)=a_{ij}$$\n",
    "donde $\\vec v=\\sum_{i=1}^{n}\\sum_{j=1}^{m}a_{(i-1)m+j}e_{(i-1)m+j}$\n",
    "es evidente que son inversas pues por como se construyo tomando la base se tiene que:\n",
    "$$\\psi\\circ\\phi(\\delta_{ij})=\\psi(e_{(i-1)m+j})=d^{ij}$$\n",
    "$$\\phi\\circ\\psi(e_{(i-1)m+j})=\\phi(\\delta_{ij})=e_{(i-1)m+j}$$\n",
    "es decir en las bases resulta que dan lo mismo que $Id_{nm}$ e $Id_{nxm}$ (denotando la función identidad en el espacio real de dimensión nm y el de matrices respectivamente) de manera que por la propiedad universal de las bases se tiene que $\\psi\\circ\\phi=Id_{nxm}$ y $\\phi\\circ\\psi=Id_{nm}$ de manera que son funciones inversas."
   ]
  }
 ],
 "metadata": {
  "kernelspec": {
   "display_name": "Julia 0.5.2",
   "language": "julia",
   "name": "julia-0.5"
  },
  "language_info": {
   "file_extension": ".jl",
   "mimetype": "application/julia",
   "name": "julia",
   "version": "0.5.2"
  }
 },
 "nbformat": 4,
 "nbformat_minor": 2
}
