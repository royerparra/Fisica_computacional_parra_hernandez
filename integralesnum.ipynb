{
 "cells": [
  {
   "cell_type": "markdown",
   "metadata": {},
   "source": [
    "# integración numérica (primeros dos métodos)"
   ]
  },
  {
   "cell_type": "markdown",
   "metadata": {},
   "source": [
    "en esta parte vamos a aproximar $\\int_{a}^{b} f(x)dx$ por los dos primeros metodos discutidos en la tarea de integración"
   ]
  },
  {
   "cell_type": "markdown",
   "metadata": {},
   "source": [
    "## método de rectangulos"
   ]
  },
  {
   "cell_type": "markdown",
   "metadata": {},
   "source": [
    "Crearemos una función a la cual le metamos f, los limites de integración y la cantidad de rectangulos como argumentos y devuelva la formula vista en la tarea de integración aplicada a dicha función f"
   ]
  },
  {
   "cell_type": "code",
   "execution_count": 1,
   "metadata": {
    "collapsed": false
   },
   "outputs": [
    {
     "data": {
      "text/plain": [
       "intr"
      ]
     },
     "execution_count": 1,
     "metadata": {},
     "output_type": "execute_result"
    }
   ],
   "source": [
    "doc\"\"\"\n",
    "esta función calcula $\\int_{a}^{b}f(x)dx$ usando rectangulos, por favor introduzca: (función,a,b,numero de rectangulos)\n",
    "\"\"\"\n",
    "function intr(f,a,b,n)\n",
    "    h=(b-a)/n\n",
    "    I=0 #iniciamos la suma en cero\n",
    "    for i in 1:n #Ciclo for, se detiene al completar los n subintervalos inducidos\n",
    "        c=((2*a)+h)/2 #este es el argumento en la fórmula\n",
    "        r=f(c)*h #Hacemos el área del rectangulo inducido en el i-ésimo subintervalo\n",
    "        I=I+r #Acumulamos el valor en la suma\n",
    "        a=a+h #hacemos que avance al siguiente rectangulo\n",
    "    end\n",
    "    return I #Muestra el valor de la fórmula que teniamos\n",
    "end     "
   ]
  },
  {
   "cell_type": "code",
   "execution_count": 2,
   "metadata": {
    "collapsed": false
   },
   "outputs": [
    {
     "name": "stdout",
     "output_type": "stream",
     "text": [
      "search: \u001b[1mi\u001b[22m\u001b[1mn\u001b[22m\u001b[1mt\u001b[22me\u001b[1mr\u001b[22msect \u001b[1mi\u001b[22m\u001b[1mn\u001b[22m\u001b[1mt\u001b[22me\u001b[1mr\u001b[22mrupt \u001b[1mi\u001b[22m\u001b[1mn\u001b[22m\u001b[1mt\u001b[22me\u001b[1mr\u001b[22msect! \u001b[1mI\u001b[22m\u001b[1mn\u001b[22m\u001b[1mt\u001b[22me\u001b[1mr\u001b[22mruptException po\u001b[1mi\u001b[22m\u001b[1mn\u001b[22m\u001b[1mt\u001b[22me\u001b[1mr\u001b[22m re\u001b[1mi\u001b[22m\u001b[1mn\u001b[22m\u001b[1mt\u001b[22me\u001b[1mr\u001b[22mpret\n",
      "\n"
     ]
    },
    {
     "data": {
      "text/markdown": [
       "esta función calcula $\\int_{a}^{b}f(x)dx$ usando rectangulos, por favor introduzca: (función,a,b,numero de rectangulos)\n"
      ],
      "text/plain": [
       "esta función calcula $\\int_{a}^{b}f(x)dx$ usando rectangulos, por favor introduzca: (función,a,b,numero de rectangulos)\n"
      ]
     },
     "execution_count": 2,
     "metadata": {},
     "output_type": "execute_result"
    }
   ],
   "source": [
    "? intr"
   ]
  },
  {
   "cell_type": "code",
   "execution_count": 3,
   "metadata": {
    "collapsed": false
   },
   "outputs": [
    {
     "data": {
      "text/plain": [
       "f (generic function with 1 method)"
      ]
     },
     "execution_count": 3,
     "metadata": {},
     "output_type": "execute_result"
    }
   ],
   "source": [
    "f(x)=3 #hacemos una prueba sabiendo que en este caso debe ser exacta para cualquier numero de rectangulos"
   ]
  },
  {
   "cell_type": "code",
   "execution_count": 4,
   "metadata": {
    "collapsed": false
   },
   "outputs": [
    {
     "data": {
      "text/plain": [
       "3.0"
      ]
     },
     "execution_count": 4,
     "metadata": {},
     "output_type": "execute_result"
    }
   ],
   "source": [
    "intr(f,0,1,2)# en efecto nos devuelve lo esperado"
   ]
  },
  {
   "cell_type": "markdown",
   "metadata": {
    "collapsed": true
   },
   "source": [
    "## método de trapecios"
   ]
  },
  {
   "cell_type": "markdown",
   "metadata": {
    "collapsed": true
   },
   "source": [
    "de manera igual, crearemos una función que nos haga lo mismo que la función intr pero con la formula de trapecios compuestos "
   ]
  },
  {
   "cell_type": "code",
   "execution_count": 5,
   "metadata": {
    "collapsed": false
   },
   "outputs": [
    {
     "data": {
      "text/plain": [
       "intt"
      ]
     },
     "execution_count": 5,
     "metadata": {},
     "output_type": "execute_result"
    }
   ],
   "source": [
    "doc\"\"\"\n",
    "esta función calcula la integral $\\int_{a}^{b} f(x)dx$ usando formula de trapecio\n",
    "(función,a,b,#de trapecios) defina la función previamente\n",
    "\"\"\"\n",
    "function intt(f,a,b,n)\n",
    "    l=(b-a)/n #La longitud de cada subintervalo dada la partición\n",
    "    I=0 #iniciamos la suma\n",
    "    for i in 1:n #Ciclo for para realizar la suma que aparece en la fórmula\n",
    "        c=a+(i*l) #esto según la fórmula es donde se evalua la función\n",
    "        I=I+l*f(c) #cada vez le añadimos cada sumando\n",
    "    end\n",
    "    return I #Muestra el valor de la fórmula de trapecios\n",
    "end     "
   ]
  },
  {
   "cell_type": "code",
   "execution_count": 6,
   "metadata": {
    "collapsed": false
   },
   "outputs": [
    {
     "name": "stdout",
     "output_type": "stream",
     "text": [
      "search: \u001b[1mI\u001b[22m\u001b[1mn\u001b[22m\u001b[1mt\u001b[22mSe\u001b[1mt\u001b[22m \u001b[1mi\u001b[22mde\u001b[1mn\u001b[22m\u001b[1mt\u001b[22mi\u001b[1mt\u001b[22my pr\u001b[1mi\u001b[22m\u001b[1mn\u001b[22m\u001b[1mt\u001b[22m_wi\u001b[1mt\u001b[22mh_color C\u001b[1mi\u001b[22m\u001b[1mn\u001b[22m\u001b[1mt\u001b[22mmax_\u001b[1mt\u001b[22m Cu\u001b[1mi\u001b[22m\u001b[1mn\u001b[22m\u001b[1mt\u001b[22mmax_\u001b[1mt\u001b[22m \u001b[1mi\u001b[22m\u001b[1mn\u001b[22m\u001b[1mt\u001b[22mersec\u001b[1mt\u001b[22m\n",
      "\n"
     ]
    },
    {
     "data": {
      "text/markdown": [
       "esta función calcula la integral $\\int_{a}^{b} f(x)dx$ usando formula de trapecio (función,a,b,#de trapecios) defina la función previamente\n"
      ],
      "text/plain": [
       "esta función calcula la integral $\\int_{a}^{b} f(x)dx$ usando formula de trapecio (función,a,b,#de trapecios) defina la función previamente\n"
      ]
     },
     "execution_count": 6,
     "metadata": {},
     "output_type": "execute_result"
    }
   ],
   "source": [
    "? intt"
   ]
  },
  {
   "cell_type": "code",
   "execution_count": 7,
   "metadata": {
    "collapsed": false
   },
   "outputs": [
    {
     "data": {
      "text/plain": [
       "f (generic function with 1 method)"
      ]
     },
     "execution_count": 7,
     "metadata": {},
     "output_type": "execute_result"
    }
   ],
   "source": [
    "f(x)=x*x #hacemos una prueba con una función que ya sabemos cuanto vale su integral de 0 a 1 (1/3)"
   ]
  },
  {
   "cell_type": "code",
   "execution_count": 8,
   "metadata": {
    "collapsed": false
   },
   "outputs": [
    {
     "data": {
      "text/plain": [
       "1.0"
      ]
     },
     "execution_count": 8,
     "metadata": {},
     "output_type": "execute_result"
    }
   ],
   "source": [
    "intt(f,0,1,1) #al principio no se parece"
   ]
  },
  {
   "cell_type": "code",
   "execution_count": 9,
   "metadata": {
    "collapsed": false
   },
   "outputs": [
    {
     "data": {
      "text/plain": [
       "0.46875"
      ]
     },
     "execution_count": 9,
     "metadata": {},
     "output_type": "execute_result"
    }
   ],
   "source": [
    "intt(f,0,1,4)#aumentamos el número de trapecios y se reduce el valor"
   ]
  },
  {
   "cell_type": "code",
   "execution_count": 10,
   "metadata": {
    "collapsed": false
   },
   "outputs": [
    {
     "data": {
      "text/plain": [
       "0.3850000000000001"
      ]
     },
     "execution_count": 10,
     "metadata": {},
     "output_type": "execute_result"
    }
   ],
   "source": [
    "intt(f,0,1,10)#cada vez se acerca mas a nuestro valor esperado"
   ]
  },
  {
   "cell_type": "code",
   "execution_count": 11,
   "metadata": {
    "collapsed": false
   },
   "outputs": [
    {
     "data": {
      "text/plain": [
       "0.33338333499999956"
      ]
     },
     "execution_count": 11,
     "metadata": {},
     "output_type": "execute_result"
    }
   ],
   "source": [
    "intt(f,0,1,10000)#y se observa que aunque lo hace relativamente lento, si se aproxima"
   ]
  }
 ],
 "metadata": {
  "kernelspec": {
   "display_name": "Julia 0.6.0",
   "language": "julia",
   "name": "julia-0.6"
  },
  "language_info": {
   "file_extension": ".jl",
   "mimetype": "application/julia",
   "name": "julia",
   "version": "0.6.0"
  }
 },
 "nbformat": 4,
 "nbformat_minor": 2
}
