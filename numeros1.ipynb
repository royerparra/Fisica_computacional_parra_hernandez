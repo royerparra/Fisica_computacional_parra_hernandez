{
 "cells": [
  {
   "cell_type": "markdown",
   "metadata": {},
   "source": [
    "# Tarea 1 Parte 1 Teoría de Números"
   ]
  },
  {
   "cell_type": "markdown",
   "metadata": {},
   "source": [
    "## Parra Hernández Brian Rogelio"
   ]
  },
  {
   "cell_type": "markdown",
   "metadata": {},
   "source": [
    "$1$) para este caso tomamos los siguientes números enteros: 2,3 y 6, entonces vemos que evidentemente:\n",
    "$$\\frac{1}{2} + \\frac{1}{3} +\\frac{1}{6} =\\frac{1}{2} + \\frac{1+2}{6}=\\frac{1}{2}+\\frac{1}{2}=1\\in \\mathbb{N}$$"
   ]
  },
  {
   "cell_type": "markdown",
   "metadata": {},
   "source": [
    "$2$) sea $n>2$ entonces $\\exists p$ primo tal que $n<p<n!$\n",
    "\n",
    "demostración: supongamoq que no ocurre, entonces $n+1,n+2,\\ldots,n!-1$ son todos compuestos, en particular $n!-1>5$ es compuesto, entonces tiene un factor primo $p'$ pero por lo que dijimos al inicio debe ocurrir que $p'\\leq n $, por tanto se debe seguir que $p'|n!$ esto pues como $p'\\leq n$ entonces como $n!=n\\cdot (n-1)\\cdot \\ldots \\cdot 2\\cdot 1$ en algun momento p' aparece en $n!$, por tanto tenemos que $p'|n!\\ y\\ p'|n!-1$ entonces se concluye que $p'|1$ lo cual es absurdo pues p' es primo, al llegar a un absurdo hemos concluido que: $\\exists p$ primo $\\forall n\\geq 3$ tal que $b<p<n!$ que es lo que se quería demostrar$\\blacksquare$"
   ]
  },
  {
   "cell_type": "markdown",
   "metadata": {},
   "source": [
    "$3$) caracterizar a todos los $n$ tales que $n+1|n^2+1$\n",
    "\n",
    "supongamos que $n+1|n^2+1$ pero $n^2+1=(n^2-1)+2=(n+1)(n-1)+2$,pero $n+1|(n+1)(n-1)$ y además $n+1|(n+1)(n-1)+2$ por lo tanto se concluye que ocurre que $n+1|2$ luego entonces : $n+1=1\\space o\\space n+1=2$ por tanto $n=0\\space o\\space n=1$\n",
    "pero $0\\notin \\mathbb{N}$, por tanto debe ocurrir que $n=1$, entonces los n que cumplen que $n+1|n^2+1$ solo es el $1$"
   ]
  },
  {
   "cell_type": "markdown",
   "metadata": {},
   "source": [
    "$4$) hallar los primos que son diferencia y a la vez suma de dos primos:\n",
    "\n",
    "en primer lugar es evidente ver que para que esto ocurra debe ser alguno de los primos que lo descomponen el $2$ puesto que si no lo es sería suma de impares y por tanto sería par cosa que no es primo, además como el 2 es el primo mas chico, entonces ese debe ser la parte que se resta así que en primera aproximación tenemos que $p=q+2\\ y\\ p=r-2$ para algunos $q,r$ primos."
   ]
  },
  {
   "cell_type": "markdown",
   "metadata": {},
   "source": [
    "$5$)Sea $n\\in \\mathbb{N}$ entonces $(2^n-(-1)^n,2^{n-1}-(-1)^{n-1})=3$\n",
    "\n",
    "Antes probaremos el siguiente lema:\n",
    "\n",
    "Lema:supongamos $a,b,r\\in \\mathbb{Z}$ impares y supongamos que $a=b+2r$ entonces ocurre que $(a,b)=(b,r)$\n",
    "\n",
    "demostración: sean $g=(a,b)$ y $g'=(b,r)$ entonces ocurre que:\n",
    "$$g|a\\space y\\space g|b \\Rightarrow g|a-b \\Rightarrow g|2r$$ pero como $a$ y $b$ son impares y $r$ es impar entonces $g$ es impar y por tanto $g|r$, así obtenemos que $g|a\\space y\\space g|r$(es común divisor)$\\Rightarrow g|g'$\n",
    "\n",
    "ahora bien, $g'|b\\space y\\space g'|r \\Rightarrow g'|b\\space y\\space g'|2r\\Rightarrow g'|b+2r=a\\space \\therefore g'|a\\space y\\space g'|b \\Rightarrow g'|g$ por ello obtenemos: $g|g'\\space y\\space g'|g\\space \\therefore g=g' \\square$\n",
    "\n",
    "ahora si procedemos a demostrar que $(2^n -(-1)^n,2^{n-1} -(-1)^{n-1})=3\\ \\forall n\\geq 2$, lo cual haremos por inducción:\n",
    "\n",
    "si $n=1\\Rightarrow \\ (2^{2}-(-1)^2,2^{2-1}-(-1)^{2-1})=(4-1,2+1)=(3,3)=3$ es decir, la base de inducción si lo satisface\n",
    "\n",
    "sup válido para n:$(2^n -(-1)^n,2^{n-1} -(-1)^{n-1})=3$ entonces veamos lo siguiente: $$(-1)^{n+1}=(-1)(-1)(-1)^{n+1-2}=(-1)^{n-1}\\ y \\ -(-1)^{n-1}-(-1)^n=-(-1)^{n-1}(1-1)=0$$\n",
    "así ahora es fácil ver que: $$2^{n+1}-(-1)^{n+1}=2(2^n)-(-1)^{n-1}+0=2^n+2^n-(-1)^{n-1}-(-1)^{n-1}-(-1)^{n}=(2^n-(-1)^n)+2(2^{n-1}-(-1)^{n-1}$$\n",
    "ahora tenemos tomemos $a'=2^{n+1}-(-1)^{n+1};b'=2^n-(-1)^n;r'=2^{n-1}-(-1)^{n-1}$ entonces es claro que $a'=b'+2r'$, y que $a',b',r'$ son impares, entonces cumplen las condiciones del lema y lo podemos aplicar asi obteniendo: $$(2^{n+1}-(-1)^{n+1},2^{n} -(-1)^{n})=(2^n -(-1)^n,2^{n-1} -(-1)^{n-1})=3$$\n",
    "esto ultimo por la hipotesis de inducción, así finalmente podemos concluir que:\n",
    "$$(2^n -(-1)^n,2^{n-1} -(-1)^{n-1})=3\\ \\forall n\\geq 2\\blacksquare$$\n"
   ]
  },
  {
   "cell_type": "markdown",
   "metadata": {},
   "source": [
    "$6$) número de divisores de $20!$\n",
    "\n",
    "dado un número $n$ podemos considerar su factorización en primos como $n=p_1^{\\alpha_1}p_2^{\\alpha_2}\\ldots p_n^{\\alpha_n}$ entonces resulta que el numero de divisores es $(\\alpha_1+1)(\\alpha_2+1)\\ldots (\\alpha_n+1)$, ahora lo aplicamos a $20!$:\n",
    "$$20!=20\\cdot 19\\cdot 18\\cdot 17\\cdot \\ldots \\cdot 2\\cdot 1$$\n",
    "de aqui observamos que los factores primos son: $2,3,5,7,11,13,19$ luego resta ver de los que son compuestos, cual es su factorización, y resulta ser que:\n",
    "$$4=2^2;6=2\\cdot 3;8=2^3;9=3^2;10=5\\cdot 2;12=2^{2}\\cdot 3;14=2\\cdot 7;15=3\\cdot 5;16=2^4;18=2\\cdot 3^2;20=2^{2}\\cdot 5$$\n",
    "de este modo obtenemos la factorización de $20!$:\n",
    "$$20!=2^{18}3^{8}5^{4}7^{2}11\\ 13\\ 17\\ 19$$\n",
    "así que finalmente obtenemos que la cantidad de divisores es:\n",
    "$$(18+1)(8+1)(4+1)(2+1)(1+1)(1+1)(1+1)(1+1)=41040$$"
   ]
  },
  {
   "cell_type": "markdown",
   "metadata": {},
   "source": [
    "$7$) sea $(a,a+d.a+2d)$ una terna pitagórica de manera que $a,a+d\\ y\\ a+2d$ no tienen divisores comunes, entonces $a=3\\ y \\ d=5$\n",
    "\n",
    "demostración: supongamos $a,a+d,a+2d$ terna pitagórica, entonces:\n",
    "$$a^{2}+(a+d)^2=(a+2d)^2; \\therefore \\ a^2+a^2+2ad+d^2=a^2+4ad+4d^2 \\Rightarrow a^{2}-2ad-3d^2=0$$\n",
    "ahora aplicamos fórmula general:\n",
    "$$a=\\frac{2d \\pm \\sqrt{4d^2-4(1)(-3d^2)}}{2}=d\\pm \\frac{\\sqrt{16d^2}}{2}=d\\pm 2d\\Rightarrow a=-d\\space\\ 0\\space\\ a=3d$$\n",
    "ahora vemos que si tomamos $a=-d$ entonces la terna es $(-d,0,d)$ pero esta si tiene divisor común, por lo tanto la descartamos, por tanto solo consideramos $a=3d$, ahora consideraremos solo numeros naturales por tanto consideramos $d>0$ pues no puede ser cero ya que entonces la terna seria los tres cero y eso no nos interesa, ahora vemos que si $d\\geq2$ entonces ocurre que $d$ divide a los tres numeros y $d\\neq 1$ entonces tienen divisor común, por tanto se concluye que $d=1$ de esta manera obtenemos que la unica terna posible es:\n",
    "$$(3,4,5)$$"
   ]
  },
  {
   "cell_type": "markdown",
   "metadata": {},
   "source": [
    "$8$)$\\forall n\\in \\mathbb{N}$ ocurre que $\\frac{n^5}{5}+\\frac{n^3}{3}+\\frac{7n}{15}\\in \\mathbb{Z}$\n",
    "\n",
    "como $3n^{5}+5n^{3}+7n\\in \\mathbb{Z} \\forall n$ entonces $\\frac{n^5}{5}+\\frac{n^3}{3}+\\frac{7n}{15}\\in \\mathbb{Z}\\ \\forall n \\Leftrightarrow 15|3n^{5}+5n^{3}+7n\\  \\forall n$ así que ahora procedemos a demostrar lo segundo que es equivalente a lo primero:\n",
    "\n",
    "si $n=1$, $15|3(1)^{5}+5(1)^{3}+7=3+5+7=15$ por tanto si se cumple la base de inducción.\n",
    "\n",
    "supongamos $15|3n^{5}+5n^{3}+7n$ entonces veamos que :\n",
    "$$3(n+1)^{5}+5(n+1)^{3}+7(n+1)=3n^{5}+15n^{4}+30n^{3}+30n^{2}+15n+3+5n^{3}+15n^{2}+15n+5+7n+7=(3n^{5}+5n^{3}+7n)+15(n^{4}+2n^{3}\n",
    "3n^{2}+2n+1)$$\n",
    "pero por hipotesis de inducción $15|3n^{5}+5n^{3}+7n$ por tanto $\\exists k\\in \\mathbb{Z}$ tal que $3n^{5}+5n^{3}+7n=15k$, asi que:\n",
    "$$3(n+1)^{5}+5(n+1)^{3}+7(n+1)=15(k+n^{4}+2n^{3}+3n^{2}+2n+1)\\ \\therefore \\ 15|3(n+1)^{5}+5(n+1)^{3}+7(n+1)$$\n",
    "asi que obtenemos que $15|3n^{5}+5n^{3}+7n\\  \\forall n$, por la equivalencia entonces obtenemos $\\frac{n^5}{5}+\\frac{n^3}{3}+\\frac{7n}{15}\\in \\mathbb{Z}\\ \\forall n\\ \\blacksquare$"
   ]
  },
  {
   "cell_type": "markdown",
   "metadata": {},
   "source": [
    "$9$) $\\forall n\\in \\mathbb{N}$ ocurre que $f_n$ tiene por último dígito $7$\n",
    "\n",
    "demostración:antes notemos que si el último digito de un número mayor a $10$ es $7$ entonces al restar $7$ queda un cero por ultimo digito, por tanto $10$ dividira a la resta, ahora aplicaremos esto a $f_n$ pues como lo haremos para $n\\geq2$ y $17=f_2\\leq f_n \\ \\forall n\\geq2$ los numeros son mayores a $10$\n",
    "\n",
    "demostración:   $f_n-7=(f_n-2)-5$, pero por lo visto en clase se cumple que:\n",
    "$$f_n-2=f_0\\cdot f_1\\cdot \\ldots \\cdot f_{n-1}$$\n",
    "por tanto al meter en lo que obtuvimos nos queda:\n",
    "$$f_n-7=f_0\\cdot f_1\\cdot \\ldots \\cdot f_{n-1}-5$$\n",
    "ahora observemos dos cosas, como $f_n$ es impar $\\forall n$ entonces como producto de impares es impar $f_0\\cdot f_2\\cdot \\ldots \\cdot f_{n-1}$ es impar(note como no aparece $f_1$, eso es por que se usara mas adelante) pero también veamos que $f_1=2^{2^1}+1=2^2+1=5$ ahora usaremos esto pues lo factorizamos del primer sumando:\n",
    "$$f_n-7=5(f_0\\cdot f_2\\cdot \\ldots \\cdot f_{n-1}-1)$$\n",
    "ahora solo falta notar que como $f_0\\cdot f_2\\cdot \\ldots \\cdot f_{n-1}$ es impar $\\forall n$ entonces $f_0\\cdot f_2\\cdot \\ldots \\cdot f_{n-1}-1$ es para $\\forall n$, por tanto $\\exists k\\in \\mathbb{Z}$ tal que $f_0\\cdot f_2\\cdot \\ldots \\cdot f_{n-1}-1=2k$\n",
    "de manera que sustituyendo en lo que habiamos obtenido:\n",
    "$$f_n-7=5(2k)=10k\\ \\therefore \\ 10|f_n-7$$\n",
    "asi que concluimos por la observación previa a la demostración que el último digito de $f_n$ es $7\\ \\forall n\\geq2 \\blacksquare$"
   ]
  },
  {
   "cell_type": "markdown",
   "metadata": {},
   "source": [
    "$10$) sean $n\\neq m\\in \\mathbb{Z}$ entonces ocurre que: $(f_n,f_m)=1$\n",
    "\n",
    "demostración: supongamos sin pérdida de generalidad que $n<m$ (si esto no ocurre se copia el proceso que sigue intercambiando n y m), entonces ocurre que $f_n=f_0\\cdot f_1\\cdot \\ldots \\cdot f_m\\cdot f_{m+1}\\cdot \\ldots \\cdot f_{n-1} +2$, ahora supongamos que $d\\in \\mathbb{Z}^+$ es divisor comun de $f_m\\ \\ y\\ \\  f_n$ entonces ocurriran dos cosas, 1)$d|f_m\\ y\\ d|f_n$ y 2)$d$ es impar puesto que f_m y f_n lo son.\n",
    "\n",
    "ahora veamos lo siguiente: si $d|f_m \\Rightarrow \\ d|f_0\\cdot f_1\\cdot \\ldots \\cdot f_m\\cdot f_{m+1}\\cdot \\ldots \\cdot f_{n-1} \\ \\therefore \\ d|2$, luego entonces se sigue $d|2\\ \\therefore\\ d=1\\ o\\ d=2$ pero como d es impar entonces se concluye que $d=1$, por tanto hasta ahora hemos obtenido que si $d$ es divisor común, entonces debe ser igual a $1$, pero 1 también es divisor común, por tanto acabamos de demostrar que $d|f_m\\ y\\ d|f_m \\Leftrightarrow\\ d=1$ por tanto de esto se sigue que $(f_n,f_m)=1\\blacksquare$"
   ]
  }
 ],
 "metadata": {
  "kernelspec": {
   "display_name": "Julia 0.6.0",
   "language": "julia",
   "name": "julia-0.6"
  },
  "language_info": {
   "file_extension": ".jl",
   "mimetype": "application/julia",
   "name": "julia",
   "version": "0.6.0"
  }
 },
 "nbformat": 4,
 "nbformat_minor": 2
}
